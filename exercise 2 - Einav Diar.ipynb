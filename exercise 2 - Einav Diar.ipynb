{
 "cells": [
  {
   "cell_type": "markdown",
   "metadata": {},
   "source": [
    "# Trip Advisor - Bangkok Data\n"
   ]
  },
  {
   "cell_type": "markdown",
   "metadata": {},
   "source": [
    "# Q1 "
   ]
  },
  {
   "cell_type": "code",
   "execution_count": 2,
   "metadata": {},
   "outputs": [],
   "source": [
    "import pandas as pd\n",
    "import numpy as np"
   ]
  },
  {
   "cell_type": "code",
   "execution_count": 3,
   "metadata": {},
   "outputs": [],
   "source": [
    "url = 'https://raw.githubusercontent.com/nlihin/data-analytics/main/datasets/TripAdvisor_Bangkok.csv'\n",
    "bangkok_df = pd.read_csv(url)"
   ]
  },
  {
   "cell_type": "markdown",
   "metadata": {},
   "source": [
    " :review score\n",
    "\n",
    "כל הערכים בעמודה הם בין 0 ל50, ולכן נחלק ב10 ונקבל ערכים בין 0 ל5"
   ]
  },
  {
   "cell_type": "code",
   "execution_count": 4,
   "metadata": {},
   "outputs": [
    {
     "data": {
      "text/html": [
       "<div>\n",
       "<style scoped>\n",
       "    .dataframe tbody tr th:only-of-type {\n",
       "        vertical-align: middle;\n",
       "    }\n",
       "\n",
       "    .dataframe tbody tr th {\n",
       "        vertical-align: top;\n",
       "    }\n",
       "\n",
       "    .dataframe thead th {\n",
       "        text-align: right;\n",
       "    }\n",
       "</style>\n",
       "<table border=\"1\" class=\"dataframe\">\n",
       "  <thead>\n",
       "    <tr style=\"text-align: right;\">\n",
       "      <th></th>\n",
       "      <th>hotel_name</th>\n",
       "      <th>average_score</th>\n",
       "      <th>user_name</th>\n",
       "      <th>Time</th>\n",
       "      <th>review_date</th>\n",
       "      <th>review_score</th>\n",
       "      <th>postal_code</th>\n",
       "      <th>address</th>\n",
       "      <th>code</th>\n",
       "      <th>year</th>\n",
       "      <th>month</th>\n",
       "      <th>quarter</th>\n",
       "    </tr>\n",
       "  </thead>\n",
       "  <tbody>\n",
       "    <tr>\n",
       "      <th>0</th>\n",
       "      <td>@Home Phetkasem</td>\n",
       "      <td>4.0</td>\n",
       "      <td>Pat C</td>\n",
       "      <td>Pat C wrote a review Dec 2015</td>\n",
       "      <td>Dec-15</td>\n",
       "      <td>4.0</td>\n",
       "      <td>10160</td>\n",
       "      <td>55/1 Soi Phetkasem 57 Phetkasem Road Laksong B...</td>\n",
       "      <td>1</td>\n",
       "      <td>2015</td>\n",
       "      <td>12</td>\n",
       "      <td>4</td>\n",
       "    </tr>\n",
       "    <tr>\n",
       "      <th>1</th>\n",
       "      <td>@Home Phetkasem</td>\n",
       "      <td>4.0</td>\n",
       "      <td>Shukki</td>\n",
       "      <td>Shukki wrote a review Sep 2013</td>\n",
       "      <td>Sep-13</td>\n",
       "      <td>4.0</td>\n",
       "      <td>10160</td>\n",
       "      <td>55/1 Soi Phetkasem 57 Phetkasem Road Laksong B...</td>\n",
       "      <td>1</td>\n",
       "      <td>2013</td>\n",
       "      <td>9</td>\n",
       "      <td>3</td>\n",
       "    </tr>\n",
       "    <tr>\n",
       "      <th>2</th>\n",
       "      <td>@Home Residence</td>\n",
       "      <td>4.0</td>\n",
       "      <td>GlowSilver</td>\n",
       "      <td>GlowSilver wrote a review Apr 2019</td>\n",
       "      <td>Apr-19</td>\n",
       "      <td>5.0</td>\n",
       "      <td>10240</td>\n",
       "      <td>1/1, Soi 16, Searee 2 Road Hua Mak, Bang Kapi</td>\n",
       "      <td>2</td>\n",
       "      <td>2019</td>\n",
       "      <td>4</td>\n",
       "      <td>2</td>\n",
       "    </tr>\n",
       "    <tr>\n",
       "      <th>3</th>\n",
       "      <td>@Home Residence</td>\n",
       "      <td>4.0</td>\n",
       "      <td>Ashraful Amin Robin</td>\n",
       "      <td>Ashraful Amin Robin wrote a review Feb 2019</td>\n",
       "      <td>Feb-19</td>\n",
       "      <td>4.0</td>\n",
       "      <td>10240</td>\n",
       "      <td>1/1, Soi 16, Searee 2 Road Hua Mak, Bang Kapi</td>\n",
       "      <td>2</td>\n",
       "      <td>2019</td>\n",
       "      <td>2</td>\n",
       "      <td>1</td>\n",
       "    </tr>\n",
       "    <tr>\n",
       "      <th>4</th>\n",
       "      <td>@Home Residence</td>\n",
       "      <td>4.0</td>\n",
       "      <td>Raoul K</td>\n",
       "      <td>Raoul K wrote a review Jul 2018</td>\n",
       "      <td>Jul-18</td>\n",
       "      <td>5.0</td>\n",
       "      <td>10240</td>\n",
       "      <td>1/1, Soi 16, Searee 2 Road Hua Mak, Bang Kapi</td>\n",
       "      <td>2</td>\n",
       "      <td>2018</td>\n",
       "      <td>7</td>\n",
       "      <td>3</td>\n",
       "    </tr>\n",
       "    <tr>\n",
       "      <th>...</th>\n",
       "      <td>...</td>\n",
       "      <td>...</td>\n",
       "      <td>...</td>\n",
       "      <td>...</td>\n",
       "      <td>...</td>\n",
       "      <td>...</td>\n",
       "      <td>...</td>\n",
       "      <td>...</td>\n",
       "      <td>...</td>\n",
       "      <td>...</td>\n",
       "      <td>...</td>\n",
       "      <td>...</td>\n",
       "    </tr>\n",
       "    <tr>\n",
       "      <th>127589</th>\n",
       "      <td>ฺBaan Suan Prannok Residence</td>\n",
       "      <td>4.5</td>\n",
       "      <td>BenitoLeo</td>\n",
       "      <td>BenitoLeo wrote a review Nov 2018</td>\n",
       "      <td>Nov-18</td>\n",
       "      <td>5.0</td>\n",
       "      <td>10700</td>\n",
       "      <td>225/1 Soi 43, Itsaraphap Road Kwang Ban CHang ...</td>\n",
       "      <td>2142</td>\n",
       "      <td>2018</td>\n",
       "      <td>11</td>\n",
       "      <td>4</td>\n",
       "    </tr>\n",
       "    <tr>\n",
       "      <th>127590</th>\n",
       "      <td>ฺBaan Suan Prannok Residence</td>\n",
       "      <td>4.5</td>\n",
       "      <td>Paulze B</td>\n",
       "      <td>Paulze B wrote a review Nov 2018</td>\n",
       "      <td>Nov-18</td>\n",
       "      <td>5.0</td>\n",
       "      <td>10700</td>\n",
       "      <td>225/1 Soi 43, Itsaraphap Road Kwang Ban CHang ...</td>\n",
       "      <td>2142</td>\n",
       "      <td>2018</td>\n",
       "      <td>11</td>\n",
       "      <td>4</td>\n",
       "    </tr>\n",
       "    <tr>\n",
       "      <th>127591</th>\n",
       "      <td>ฺBaan Suan Prannok Residence</td>\n",
       "      <td>4.5</td>\n",
       "      <td>Meira K</td>\n",
       "      <td>Meira K wrote a review Nov 2018</td>\n",
       "      <td>Nov-18</td>\n",
       "      <td>5.0</td>\n",
       "      <td>10700</td>\n",
       "      <td>225/1 Soi 43, Itsaraphap Road Kwang Ban CHang ...</td>\n",
       "      <td>2142</td>\n",
       "      <td>2018</td>\n",
       "      <td>11</td>\n",
       "      <td>4</td>\n",
       "    </tr>\n",
       "    <tr>\n",
       "      <th>127592</th>\n",
       "      <td>ฺBaan Suan Prannok Residence</td>\n",
       "      <td>4.5</td>\n",
       "      <td>Stephienot55</td>\n",
       "      <td>Stephienot55 wrote a review Oct 2018</td>\n",
       "      <td>Oct-18</td>\n",
       "      <td>5.0</td>\n",
       "      <td>10700</td>\n",
       "      <td>225/1 Soi 43, Itsaraphap Road Kwang Ban CHang ...</td>\n",
       "      <td>2142</td>\n",
       "      <td>2018</td>\n",
       "      <td>10</td>\n",
       "      <td>4</td>\n",
       "    </tr>\n",
       "    <tr>\n",
       "      <th>127593</th>\n",
       "      <td>ฺBaan Suan Prannok Residence</td>\n",
       "      <td>4.5</td>\n",
       "      <td>pkmt_11</td>\n",
       "      <td>pkmt_11 wrote a review May 2018</td>\n",
       "      <td>May-18</td>\n",
       "      <td>4.0</td>\n",
       "      <td>10700</td>\n",
       "      <td>225/1 Soi 43, Itsaraphap Road Kwang Ban CHang ...</td>\n",
       "      <td>2142</td>\n",
       "      <td>2018</td>\n",
       "      <td>5</td>\n",
       "      <td>2</td>\n",
       "    </tr>\n",
       "  </tbody>\n",
       "</table>\n",
       "<p>127594 rows × 12 columns</p>\n",
       "</div>"
      ],
      "text/plain": [
       "                          hotel_name  average_score            user_name  \\\n",
       "0                    @Home Phetkasem            4.0                Pat C   \n",
       "1                    @Home Phetkasem            4.0               Shukki   \n",
       "2                    @Home Residence            4.0           GlowSilver   \n",
       "3                    @Home Residence            4.0  Ashraful Amin Robin   \n",
       "4                    @Home Residence            4.0              Raoul K   \n",
       "...                              ...            ...                  ...   \n",
       "127589  ฺBaan Suan Prannok Residence            4.5            BenitoLeo   \n",
       "127590  ฺBaan Suan Prannok Residence            4.5             Paulze B   \n",
       "127591  ฺBaan Suan Prannok Residence            4.5              Meira K   \n",
       "127592  ฺBaan Suan Prannok Residence            4.5         Stephienot55   \n",
       "127593  ฺBaan Suan Prannok Residence            4.5              pkmt_11   \n",
       "\n",
       "                                               Time review_date  review_score  \\\n",
       "0                     Pat C wrote a review Dec 2015      Dec-15           4.0   \n",
       "1                    Shukki wrote a review Sep 2013      Sep-13           4.0   \n",
       "2                GlowSilver wrote a review Apr 2019      Apr-19           5.0   \n",
       "3       Ashraful Amin Robin wrote a review Feb 2019      Feb-19           4.0   \n",
       "4                   Raoul K wrote a review Jul 2018      Jul-18           5.0   \n",
       "...                                             ...         ...           ...   \n",
       "127589            BenitoLeo wrote a review Nov 2018      Nov-18           5.0   \n",
       "127590             Paulze B wrote a review Nov 2018      Nov-18           5.0   \n",
       "127591              Meira K wrote a review Nov 2018      Nov-18           5.0   \n",
       "127592         Stephienot55 wrote a review Oct 2018      Oct-18           5.0   \n",
       "127593              pkmt_11 wrote a review May 2018      May-18           4.0   \n",
       "\n",
       "       postal_code                                            address  code  \\\n",
       "0            10160  55/1 Soi Phetkasem 57 Phetkasem Road Laksong B...     1   \n",
       "1            10160  55/1 Soi Phetkasem 57 Phetkasem Road Laksong B...     1   \n",
       "2            10240      1/1, Soi 16, Searee 2 Road Hua Mak, Bang Kapi     2   \n",
       "3            10240      1/1, Soi 16, Searee 2 Road Hua Mak, Bang Kapi     2   \n",
       "4            10240      1/1, Soi 16, Searee 2 Road Hua Mak, Bang Kapi     2   \n",
       "...            ...                                                ...   ...   \n",
       "127589       10700  225/1 Soi 43, Itsaraphap Road Kwang Ban CHang ...  2142   \n",
       "127590       10700  225/1 Soi 43, Itsaraphap Road Kwang Ban CHang ...  2142   \n",
       "127591       10700  225/1 Soi 43, Itsaraphap Road Kwang Ban CHang ...  2142   \n",
       "127592       10700  225/1 Soi 43, Itsaraphap Road Kwang Ban CHang ...  2142   \n",
       "127593       10700  225/1 Soi 43, Itsaraphap Road Kwang Ban CHang ...  2142   \n",
       "\n",
       "        year  month  quarter  \n",
       "0       2015     12        4  \n",
       "1       2013      9        3  \n",
       "2       2019      4        2  \n",
       "3       2019      2        1  \n",
       "4       2018      7        3  \n",
       "...      ...    ...      ...  \n",
       "127589  2018     11        4  \n",
       "127590  2018     11        4  \n",
       "127591  2018     11        4  \n",
       "127592  2018     10        4  \n",
       "127593  2018      5        2  \n",
       "\n",
       "[127594 rows x 12 columns]"
      ]
     },
     "execution_count": 4,
     "metadata": {},
     "output_type": "execute_result"
    }
   ],
   "source": [
    "bangkok_df['review_score'] = bangkok_df['review_score']/10\n",
    "bangkok_df"
   ]
  },
  {
   "cell_type": "code",
   "execution_count": 5,
   "metadata": {},
   "outputs": [
    {
     "data": {
      "text/plain": [
       "<AxesSubplot:>"
      ]
     },
     "execution_count": 5,
     "metadata": {},
     "output_type": "execute_result"
    },
    {
     "data": {
      "image/png": "[encoded data removed]",
      "text/plain": [
       "<Figure size 432x288 with 1 Axes>"
      ]
     },
     "metadata": {
      "needs_background": "light"
     },
     "output_type": "display_data"
    }
   ],
   "source": [
    "bangkok_df['review_score'].hist()"
   ]
  },
  {
   "cell_type": "markdown",
   "metadata": {},
   "source": [
    " # Q2"
   ]
  },
  {
   "cell_type": "markdown",
   "metadata": {},
   "source": [
    "הצגתי בבוקס פלוט את התפלגות השנים."
   ]
  },
  {
   "cell_type": "code",
   "execution_count": 6,
   "metadata": {},
   "outputs": [
    {
     "data": {
      "text/plain": [
       "<AxesSubplot:>"
      ]
     },
     "execution_count": 6,
     "metadata": {},
     "output_type": "execute_result"
    },
    {
     "data": {
      "image/png": "[encoded data removed]",
      "text/plain": [
       "<Figure size 432x288 with 1 Axes>"
      ]
     },
     "metadata": {
      "needs_background": "light"
     },
     "output_type": "display_data"
    }
   ],
   "source": [
    "bangkok_df.boxplot('year')"
   ]
  },
  {
   "cell_type": "markdown",
   "metadata": {},
   "source": [
    "בעמודת השנים ניתן לראות כי יש חריגה מכוון שמופיעות שנים שעוד לא היו, ולכן בחרתי להציג את השנים מתחת ל2022, כלומר 2021 ומטה"
   ]
  },
  {
   "cell_type": "code",
   "execution_count": 7,
   "metadata": {},
   "outputs": [
    {
     "data": {
      "text/html": [
       "<div>\n",
       "<style scoped>\n",
       "    .dataframe tbody tr th:only-of-type {\n",
       "        vertical-align: middle;\n",
       "    }\n",
       "\n",
       "    .dataframe tbody tr th {\n",
       "        vertical-align: top;\n",
       "    }\n",
       "\n",
       "    .dataframe thead th {\n",
       "        text-align: right;\n",
       "    }\n",
       "</style>\n",
       "<table border=\"1\" class=\"dataframe\">\n",
       "  <thead>\n",
       "    <tr style=\"text-align: right;\">\n",
       "      <th></th>\n",
       "      <th>hotel_name</th>\n",
       "      <th>average_score</th>\n",
       "      <th>user_name</th>\n",
       "      <th>Time</th>\n",
       "      <th>review_date</th>\n",
       "      <th>review_score</th>\n",
       "      <th>postal_code</th>\n",
       "      <th>address</th>\n",
       "      <th>code</th>\n",
       "      <th>year</th>\n",
       "      <th>month</th>\n",
       "      <th>quarter</th>\n",
       "    </tr>\n",
       "  </thead>\n",
       "  <tbody>\n",
       "    <tr>\n",
       "      <th>0</th>\n",
       "      <td>@Home Phetkasem</td>\n",
       "      <td>4.0</td>\n",
       "      <td>Pat C</td>\n",
       "      <td>Pat C wrote a review Dec 2015</td>\n",
       "      <td>Dec-15</td>\n",
       "      <td>4.0</td>\n",
       "      <td>10160</td>\n",
       "      <td>55/1 Soi Phetkasem 57 Phetkasem Road Laksong B...</td>\n",
       "      <td>1</td>\n",
       "      <td>2015</td>\n",
       "      <td>12</td>\n",
       "      <td>4</td>\n",
       "    </tr>\n",
       "    <tr>\n",
       "      <th>1</th>\n",
       "      <td>@Home Phetkasem</td>\n",
       "      <td>4.0</td>\n",
       "      <td>Shukki</td>\n",
       "      <td>Shukki wrote a review Sep 2013</td>\n",
       "      <td>Sep-13</td>\n",
       "      <td>4.0</td>\n",
       "      <td>10160</td>\n",
       "      <td>55/1 Soi Phetkasem 57 Phetkasem Road Laksong B...</td>\n",
       "      <td>1</td>\n",
       "      <td>2013</td>\n",
       "      <td>9</td>\n",
       "      <td>3</td>\n",
       "    </tr>\n",
       "    <tr>\n",
       "      <th>2</th>\n",
       "      <td>@Home Residence</td>\n",
       "      <td>4.0</td>\n",
       "      <td>GlowSilver</td>\n",
       "      <td>GlowSilver wrote a review Apr 2019</td>\n",
       "      <td>Apr-19</td>\n",
       "      <td>5.0</td>\n",
       "      <td>10240</td>\n",
       "      <td>1/1, Soi 16, Searee 2 Road Hua Mak, Bang Kapi</td>\n",
       "      <td>2</td>\n",
       "      <td>2019</td>\n",
       "      <td>4</td>\n",
       "      <td>2</td>\n",
       "    </tr>\n",
       "    <tr>\n",
       "      <th>3</th>\n",
       "      <td>@Home Residence</td>\n",
       "      <td>4.0</td>\n",
       "      <td>Ashraful Amin Robin</td>\n",
       "      <td>Ashraful Amin Robin wrote a review Feb 2019</td>\n",
       "      <td>Feb-19</td>\n",
       "      <td>4.0</td>\n",
       "      <td>10240</td>\n",
       "      <td>1/1, Soi 16, Searee 2 Road Hua Mak, Bang Kapi</td>\n",
       "      <td>2</td>\n",
       "      <td>2019</td>\n",
       "      <td>2</td>\n",
       "      <td>1</td>\n",
       "    </tr>\n",
       "    <tr>\n",
       "      <th>4</th>\n",
       "      <td>@Home Residence</td>\n",
       "      <td>4.0</td>\n",
       "      <td>Raoul K</td>\n",
       "      <td>Raoul K wrote a review Jul 2018</td>\n",
       "      <td>Jul-18</td>\n",
       "      <td>5.0</td>\n",
       "      <td>10240</td>\n",
       "      <td>1/1, Soi 16, Searee 2 Road Hua Mak, Bang Kapi</td>\n",
       "      <td>2</td>\n",
       "      <td>2018</td>\n",
       "      <td>7</td>\n",
       "      <td>3</td>\n",
       "    </tr>\n",
       "    <tr>\n",
       "      <th>...</th>\n",
       "      <td>...</td>\n",
       "      <td>...</td>\n",
       "      <td>...</td>\n",
       "      <td>...</td>\n",
       "      <td>...</td>\n",
       "      <td>...</td>\n",
       "      <td>...</td>\n",
       "      <td>...</td>\n",
       "      <td>...</td>\n",
       "      <td>...</td>\n",
       "      <td>...</td>\n",
       "      <td>...</td>\n",
       "    </tr>\n",
       "    <tr>\n",
       "      <th>127570</th>\n",
       "      <td>ฺBaan Suan Prannok Residence</td>\n",
       "      <td>4.5</td>\n",
       "      <td>BenitoLeo</td>\n",
       "      <td>BenitoLeo wrote a review Nov 2018</td>\n",
       "      <td>Nov-18</td>\n",
       "      <td>5.0</td>\n",
       "      <td>10700</td>\n",
       "      <td>225/1 Soi 43, Itsaraphap Road Kwang Ban CHang ...</td>\n",
       "      <td>2142</td>\n",
       "      <td>2018</td>\n",
       "      <td>11</td>\n",
       "      <td>4</td>\n",
       "    </tr>\n",
       "    <tr>\n",
       "      <th>127571</th>\n",
       "      <td>ฺBaan Suan Prannok Residence</td>\n",
       "      <td>4.5</td>\n",
       "      <td>Paulze B</td>\n",
       "      <td>Paulze B wrote a review Nov 2018</td>\n",
       "      <td>Nov-18</td>\n",
       "      <td>5.0</td>\n",
       "      <td>10700</td>\n",
       "      <td>225/1 Soi 43, Itsaraphap Road Kwang Ban CHang ...</td>\n",
       "      <td>2142</td>\n",
       "      <td>2018</td>\n",
       "      <td>11</td>\n",
       "      <td>4</td>\n",
       "    </tr>\n",
       "    <tr>\n",
       "      <th>127572</th>\n",
       "      <td>ฺBaan Suan Prannok Residence</td>\n",
       "      <td>4.5</td>\n",
       "      <td>Meira K</td>\n",
       "      <td>Meira K wrote a review Nov 2018</td>\n",
       "      <td>Nov-18</td>\n",
       "      <td>5.0</td>\n",
       "      <td>10700</td>\n",
       "      <td>225/1 Soi 43, Itsaraphap Road Kwang Ban CHang ...</td>\n",
       "      <td>2142</td>\n",
       "      <td>2018</td>\n",
       "      <td>11</td>\n",
       "      <td>4</td>\n",
       "    </tr>\n",
       "    <tr>\n",
       "      <th>127573</th>\n",
       "      <td>ฺBaan Suan Prannok Residence</td>\n",
       "      <td>4.5</td>\n",
       "      <td>Stephienot55</td>\n",
       "      <td>Stephienot55 wrote a review Oct 2018</td>\n",
       "      <td>Oct-18</td>\n",
       "      <td>5.0</td>\n",
       "      <td>10700</td>\n",
       "      <td>225/1 Soi 43, Itsaraphap Road Kwang Ban CHang ...</td>\n",
       "      <td>2142</td>\n",
       "      <td>2018</td>\n",
       "      <td>10</td>\n",
       "      <td>4</td>\n",
       "    </tr>\n",
       "    <tr>\n",
       "      <th>127574</th>\n",
       "      <td>ฺBaan Suan Prannok Residence</td>\n",
       "      <td>4.5</td>\n",
       "      <td>pkmt_11</td>\n",
       "      <td>pkmt_11 wrote a review May 2018</td>\n",
       "      <td>May-18</td>\n",
       "      <td>4.0</td>\n",
       "      <td>10700</td>\n",
       "      <td>225/1 Soi 43, Itsaraphap Road Kwang Ban CHang ...</td>\n",
       "      <td>2142</td>\n",
       "      <td>2018</td>\n",
       "      <td>5</td>\n",
       "      <td>2</td>\n",
       "    </tr>\n",
       "  </tbody>\n",
       "</table>\n",
       "<p>127575 rows × 12 columns</p>\n",
       "</div>"
      ],
      "text/plain": [
       "                          hotel_name  average_score            user_name  \\\n",
       "0                    @Home Phetkasem            4.0                Pat C   \n",
       "1                    @Home Phetkasem            4.0               Shukki   \n",
       "2                    @Home Residence            4.0           GlowSilver   \n",
       "3                    @Home Residence            4.0  Ashraful Amin Robin   \n",
       "4                    @Home Residence            4.0              Raoul K   \n",
       "...                              ...            ...                  ...   \n",
       "127570  ฺBaan Suan Prannok Residence            4.5            BenitoLeo   \n",
       "127571  ฺBaan Suan Prannok Residence            4.5             Paulze B   \n",
       "127572  ฺBaan Suan Prannok Residence            4.5              Meira K   \n",
       "127573  ฺBaan Suan Prannok Residence            4.5         Stephienot55   \n",
       "127574  ฺBaan Suan Prannok Residence            4.5              pkmt_11   \n",
       "\n",
       "                                               Time review_date  review_score  \\\n",
       "0                     Pat C wrote a review Dec 2015      Dec-15           4.0   \n",
       "1                    Shukki wrote a review Sep 2013      Sep-13           4.0   \n",
       "2                GlowSilver wrote a review Apr 2019      Apr-19           5.0   \n",
       "3       Ashraful Amin Robin wrote a review Feb 2019      Feb-19           4.0   \n",
       "4                   Raoul K wrote a review Jul 2018      Jul-18           5.0   \n",
       "...                                             ...         ...           ...   \n",
       "127570            BenitoLeo wrote a review Nov 2018      Nov-18           5.0   \n",
       "127571             Paulze B wrote a review Nov 2018      Nov-18           5.0   \n",
       "127572              Meira K wrote a review Nov 2018      Nov-18           5.0   \n",
       "127573         Stephienot55 wrote a review Oct 2018      Oct-18           5.0   \n",
       "127574              pkmt_11 wrote a review May 2018      May-18           4.0   \n",
       "\n",
       "       postal_code                                            address  code  \\\n",
       "0            10160  55/1 Soi Phetkasem 57 Phetkasem Road Laksong B...     1   \n",
       "1            10160  55/1 Soi Phetkasem 57 Phetkasem Road Laksong B...     1   \n",
       "2            10240      1/1, Soi 16, Searee 2 Road Hua Mak, Bang Kapi     2   \n",
       "3            10240      1/1, Soi 16, Searee 2 Road Hua Mak, Bang Kapi     2   \n",
       "4            10240      1/1, Soi 16, Searee 2 Road Hua Mak, Bang Kapi     2   \n",
       "...            ...                                                ...   ...   \n",
       "127570       10700  225/1 Soi 43, Itsaraphap Road Kwang Ban CHang ...  2142   \n",
       "127571       10700  225/1 Soi 43, Itsaraphap Road Kwang Ban CHang ...  2142   \n",
       "127572       10700  225/1 Soi 43, Itsaraphap Road Kwang Ban CHang ...  2142   \n",
       "127573       10700  225/1 Soi 43, Itsaraphap Road Kwang Ban CHang ...  2142   \n",
       "127574       10700  225/1 Soi 43, Itsaraphap Road Kwang Ban CHang ...  2142   \n",
       "\n",
       "        year  month  quarter  \n",
       "0       2015     12        4  \n",
       "1       2013      9        3  \n",
       "2       2019      4        2  \n",
       "3       2019      2        1  \n",
       "4       2018      7        3  \n",
       "...      ...    ...      ...  \n",
       "127570  2018     11        4  \n",
       "127571  2018     11        4  \n",
       "127572  2018     11        4  \n",
       "127573  2018     10        4  \n",
       "127574  2018      5        2  \n",
       "\n",
       "[127575 rows x 12 columns]"
      ]
     },
     "execution_count": 7,
     "metadata": {},
     "output_type": "execute_result"
    }
   ],
   "source": [
    "fixed_df=bangkok_df[bangkok_df['year'] < 2022].reset_index(drop=True)\n",
    "fixed_df"
   ]
  },
  {
   "cell_type": "raw",
   "metadata": {},
   "source": [
    "לאחר תיקון הדאטה, הצגתי שוב את הבוקס פלוט שמצג את התפלגות השנים."
   ]
  },
  {
   "cell_type": "code",
   "execution_count": 8,
   "metadata": {},
   "outputs": [
    {
     "data": {
      "text/plain": [
       "<AxesSubplot:>"
      ]
     },
     "execution_count": 8,
     "metadata": {},
     "output_type": "execute_result"
    },
    {
     "data": {
      "image/png": "[encoded data removed]",
      "text/plain": [
       "<Figure size 432x288 with 1 Axes>"
      ]
     },
     "metadata": {
      "needs_background": "light"
     },
     "output_type": "display_data"
    }
   ],
   "source": [
    "fixed_df.boxplot('year')"
   ]
  },
  {
   "cell_type": "markdown",
   "metadata": {},
   "source": [
    "# Q3"
   ]
  },
  {
   "cell_type": "code",
   "execution_count": 9,
   "metadata": {},
   "outputs": [
    {
     "data": {
      "text/plain": [
       "<AxesSubplot:ylabel='Frequency'>"
      ]
     },
     "execution_count": 9,
     "metadata": {},
     "output_type": "execute_result"
    },
    {
     "data": {
      "image/png": "[encoded data removed]",
      "text/plain": [
       "<Figure size 432x288 with 1 Axes>"
      ]
     },
     "metadata": {
      "needs_background": "light"
     },
     "output_type": "display_data"
    }
   ],
   "source": [
    "fixed_df[['average_score','review_score']].plot(kind='hist',alpha=0.3)"
   ]
  },
  {
   "cell_type": "markdown",
   "metadata": {},
   "source": [
    "# Q4"
   ]
  },
  {
   "cell_type": "code",
   "execution_count": 10,
   "metadata": {},
   "outputs": [
    {
     "data": {
      "text/plain": [
       "<AxesSubplot:>"
      ]
     },
     "execution_count": 10,
     "metadata": {},
     "output_type": "execute_result"
    },
    {
     "data": {
      "image/png": "[encoded data removed]",
      "text/plain": [
       "<Figure size 432x288 with 1 Axes>"
      ]
     },
     "metadata": {
      "needs_background": "light"
     },
     "output_type": "display_data"
    }
   ],
   "source": [
    "fixed_df[['average_score','review_score']].plot(kind='box')"
   ]
  },
  {
   "cell_type": "markdown",
   "metadata": {},
   "source": [
    "review score:\n",
    "יש טווח רחב יותר של ציונים, אך למרות זאת הציון החציוני של שני הערכים שווה\n",
    "\n",
    "average score:\n",
    "יש טווח קטן יותר של ציונים\n"
   ]
  },
  {
   "cell_type": "markdown",
   "metadata": {},
   "source": []
  },
  {
   "cell_type": "markdown",
   "metadata": {},
   "source": [
    "# Q5"
   ]
  },
  {
   "cell_type": "code",
   "execution_count": 11,
   "metadata": {},
   "outputs": [
    {
     "data": {
      "text/html": [
       "<div>\n",
       "<style scoped>\n",
       "    .dataframe tbody tr th:only-of-type {\n",
       "        vertical-align: middle;\n",
       "    }\n",
       "\n",
       "    .dataframe tbody tr th {\n",
       "        vertical-align: top;\n",
       "    }\n",
       "\n",
       "    .dataframe thead th {\n",
       "        text-align: right;\n",
       "    }\n",
       "</style>\n",
       "<table border=\"1\" class=\"dataframe\">\n",
       "  <thead>\n",
       "    <tr style=\"text-align: right;\">\n",
       "      <th></th>\n",
       "      <th>review_score</th>\n",
       "    </tr>\n",
       "    <tr>\n",
       "      <th>month</th>\n",
       "      <th></th>\n",
       "    </tr>\n",
       "  </thead>\n",
       "  <tbody>\n",
       "    <tr>\n",
       "      <th>1</th>\n",
       "      <td>15311</td>\n",
       "    </tr>\n",
       "    <tr>\n",
       "      <th>12</th>\n",
       "      <td>12701</td>\n",
       "    </tr>\n",
       "    <tr>\n",
       "      <th>2</th>\n",
       "      <td>12642</td>\n",
       "    </tr>\n",
       "    <tr>\n",
       "      <th>3</th>\n",
       "      <td>11296</td>\n",
       "    </tr>\n",
       "    <tr>\n",
       "      <th>11</th>\n",
       "      <td>11093</td>\n",
       "    </tr>\n",
       "    <tr>\n",
       "      <th>10</th>\n",
       "      <td>10462</td>\n",
       "    </tr>\n",
       "    <tr>\n",
       "      <th>8</th>\n",
       "      <td>10030</td>\n",
       "    </tr>\n",
       "    <tr>\n",
       "      <th>7</th>\n",
       "      <td>9754</td>\n",
       "    </tr>\n",
       "    <tr>\n",
       "      <th>9</th>\n",
       "      <td>9486</td>\n",
       "    </tr>\n",
       "    <tr>\n",
       "      <th>4</th>\n",
       "      <td>8569</td>\n",
       "    </tr>\n",
       "    <tr>\n",
       "      <th>5</th>\n",
       "      <td>8240</td>\n",
       "    </tr>\n",
       "    <tr>\n",
       "      <th>6</th>\n",
       "      <td>7991</td>\n",
       "    </tr>\n",
       "  </tbody>\n",
       "</table>\n",
       "</div>"
      ],
      "text/plain": [
       "       review_score\n",
       "month              \n",
       "1             15311\n",
       "12            12701\n",
       "2             12642\n",
       "3             11296\n",
       "11            11093\n",
       "10            10462\n",
       "8             10030\n",
       "7              9754\n",
       "9              9486\n",
       "4              8569\n",
       "5              8240\n",
       "6              7991"
      ]
     },
     "execution_count": 11,
     "metadata": {},
     "output_type": "execute_result"
    }
   ],
   "source": [
    "month=fixed_df.groupby(['month'])[['review_score']]\n",
    "month.count().sort_values(by='review_score', ascending=False)"
   ]
  },
  {
   "cell_type": "markdown",
   "metadata": {},
   "source": [
    "# Q6"
   ]
  },
  {
   "cell_type": "code",
   "execution_count": 12,
   "metadata": {},
   "outputs": [
    {
     "data": {
      "text/html": [
       "<div>\n",
       "<style scoped>\n",
       "    .dataframe tbody tr th:only-of-type {\n",
       "        vertical-align: middle;\n",
       "    }\n",
       "\n",
       "    .dataframe tbody tr th {\n",
       "        vertical-align: top;\n",
       "    }\n",
       "\n",
       "    .dataframe thead th {\n",
       "        text-align: right;\n",
       "    }\n",
       "</style>\n",
       "<table border=\"1\" class=\"dataframe\">\n",
       "  <thead>\n",
       "    <tr style=\"text-align: right;\">\n",
       "      <th></th>\n",
       "      <th>review_score</th>\n",
       "    </tr>\n",
       "    <tr>\n",
       "      <th>month</th>\n",
       "      <th></th>\n",
       "    </tr>\n",
       "  </thead>\n",
       "  <tbody>\n",
       "    <tr>\n",
       "      <th>10</th>\n",
       "      <td>4.140031</td>\n",
       "    </tr>\n",
       "    <tr>\n",
       "      <th>2</th>\n",
       "      <td>4.076966</td>\n",
       "    </tr>\n",
       "    <tr>\n",
       "      <th>9</th>\n",
       "      <td>4.066308</td>\n",
       "    </tr>\n",
       "    <tr>\n",
       "      <th>11</th>\n",
       "      <td>4.055531</td>\n",
       "    </tr>\n",
       "    <tr>\n",
       "      <th>12</th>\n",
       "      <td>4.049445</td>\n",
       "    </tr>\n",
       "    <tr>\n",
       "      <th>1</th>\n",
       "      <td>4.031154</td>\n",
       "    </tr>\n",
       "    <tr>\n",
       "      <th>3</th>\n",
       "      <td>4.020627</td>\n",
       "    </tr>\n",
       "    <tr>\n",
       "      <th>7</th>\n",
       "      <td>4.014046</td>\n",
       "    </tr>\n",
       "    <tr>\n",
       "      <th>8</th>\n",
       "      <td>4.002193</td>\n",
       "    </tr>\n",
       "    <tr>\n",
       "      <th>6</th>\n",
       "      <td>4.001627</td>\n",
       "    </tr>\n",
       "    <tr>\n",
       "      <th>5</th>\n",
       "      <td>3.962743</td>\n",
       "    </tr>\n",
       "    <tr>\n",
       "      <th>4</th>\n",
       "      <td>3.940717</td>\n",
       "    </tr>\n",
       "  </tbody>\n",
       "</table>\n",
       "</div>"
      ],
      "text/plain": [
       "       review_score\n",
       "month              \n",
       "10         4.140031\n",
       "2          4.076966\n",
       "9          4.066308\n",
       "11         4.055531\n",
       "12         4.049445\n",
       "1          4.031154\n",
       "3          4.020627\n",
       "7          4.014046\n",
       "8          4.002193\n",
       "6          4.001627\n",
       "5          3.962743\n",
       "4          3.940717"
      ]
     },
     "execution_count": 12,
     "metadata": {},
     "output_type": "execute_result"
    }
   ],
   "source": [
    "month=fixed_df.groupby(['month'])[['review_score']]\n",
    "month.mean().sort_values(by='review_score', ascending=False)"
   ]
  },
  {
   "cell_type": "markdown",
   "metadata": {},
   "source": [
    "בשאלה 5 החודש המקסימלי היה חודש דצמבר (12), בשאלה 6 כשחישבנו לפי ממוצע, החודש המקסימלי הוא חודש אוקטובר (10)"
   ]
  },
  {
   "cell_type": "markdown",
   "metadata": {},
   "source": [
    "# Q7"
   ]
  },
  {
   "cell_type": "code",
   "execution_count": 20,
   "metadata": {},
   "outputs": [
    {
     "data": {
      "text/html": [
       "<div>\n",
       "<style scoped>\n",
       "    .dataframe tbody tr th:only-of-type {\n",
       "        vertical-align: middle;\n",
       "    }\n",
       "\n",
       "    .dataframe tbody tr th {\n",
       "        vertical-align: top;\n",
       "    }\n",
       "\n",
       "    .dataframe thead th {\n",
       "        text-align: right;\n",
       "    }\n",
       "</style>\n",
       "<table border=\"1\" class=\"dataframe\">\n",
       "  <thead>\n",
       "    <tr style=\"text-align: right;\">\n",
       "      <th></th>\n",
       "      <th></th>\n",
       "      <th>review_score</th>\n",
       "    </tr>\n",
       "    <tr>\n",
       "      <th>hotel_name</th>\n",
       "      <th>year</th>\n",
       "      <th></th>\n",
       "    </tr>\n",
       "  </thead>\n",
       "  <tbody>\n",
       "    <tr>\n",
       "      <th rowspan=\"2\" valign=\"top\">13 Coins Airport Grand Resort</th>\n",
       "      <th>2016</th>\n",
       "      <td>1.0</td>\n",
       "    </tr>\n",
       "    <tr>\n",
       "      <th>2019</th>\n",
       "      <td>1.0</td>\n",
       "    </tr>\n",
       "    <tr>\n",
       "      <th>13 Coins Airport Hotel Minburi</th>\n",
       "      <th>2014</th>\n",
       "      <td>1.0</td>\n",
       "    </tr>\n",
       "    <tr>\n",
       "      <th rowspan=\"2\" valign=\"top\">13 Coins Resort Bangna</th>\n",
       "      <th>2013</th>\n",
       "      <td>1.0</td>\n",
       "    </tr>\n",
       "    <tr>\n",
       "      <th>2015</th>\n",
       "      <td>1.0</td>\n",
       "    </tr>\n",
       "    <tr>\n",
       "      <th>...</th>\n",
       "      <th>...</th>\n",
       "      <td>...</td>\n",
       "    </tr>\n",
       "    <tr>\n",
       "      <th>Zircon Hotel</th>\n",
       "      <th>2018</th>\n",
       "      <td>1.0</td>\n",
       "    </tr>\n",
       "    <tr>\n",
       "      <th rowspan=\"2\" valign=\"top\">china guest inn</th>\n",
       "      <th>2012</th>\n",
       "      <td>1.0</td>\n",
       "    </tr>\n",
       "    <tr>\n",
       "      <th>2013</th>\n",
       "      <td>1.0</td>\n",
       "    </tr>\n",
       "    <tr>\n",
       "      <th>iCheck Inn Silom</th>\n",
       "      <th>2020</th>\n",
       "      <td>1.0</td>\n",
       "    </tr>\n",
       "    <tr>\n",
       "      <th>iCheck inn Residences Sukhumvit 20</th>\n",
       "      <th>2020</th>\n",
       "      <td>1.0</td>\n",
       "    </tr>\n",
       "  </tbody>\n",
       "</table>\n",
       "<p>359 rows × 1 columns</p>\n",
       "</div>"
      ],
      "text/plain": [
       "                                         review_score\n",
       "hotel_name                         year              \n",
       "13 Coins Airport Grand Resort      2016           1.0\n",
       "                                   2019           1.0\n",
       "13 Coins Airport Hotel Minburi     2014           1.0\n",
       "13 Coins Resort Bangna             2013           1.0\n",
       "                                   2015           1.0\n",
       "...                                               ...\n",
       "Zircon Hotel                       2018           1.0\n",
       "china guest inn                    2012           1.0\n",
       "                                   2013           1.0\n",
       "iCheck Inn Silom                   2020           1.0\n",
       "iCheck inn Residences Sukhumvit 20 2020           1.0\n",
       "\n",
       "[359 rows x 1 columns]"
      ]
     },
     "execution_count": 20,
     "metadata": {},
     "output_type": "execute_result"
    }
   ],
   "source": [
    "bangkokhotels= fixed_df.groupby(['hotel_name','year'])[['review_score']]\n",
    "bangkokhotels=bangkokhotels.mean()\n",
    "bangkokhotels.loc[bangkokhotels.review_score == 1]"
   ]
  },
  {
   "cell_type": "markdown",
   "metadata": {},
   "source": [
    "# Q8"
   ]
  },
  {
   "cell_type": "code",
   "execution_count": 18,
   "metadata": {},
   "outputs": [
    {
     "data": {
      "text/plain": [
       "<AxesSubplot:>"
      ]
     },
     "execution_count": 18,
     "metadata": {},
     "output_type": "execute_result"
    },
    {
     "data": {
      "image/png": "[encoded data removed]",
      "text/plain": [
       "<Figure size 432x288 with 1 Axes>"
      ]
     },
     "metadata": {
      "needs_background": "light"
     },
     "output_type": "display_data"
    }
   ],
   "source": [
    "bangkokhotels['review_score'].hist()"
   ]
  },
  {
   "cell_type": "markdown",
   "metadata": {},
   "source": [
    "בשאלה 1 הופיעו הציונים שהמשתמשים דירגו, בשאלה 8 (השאלה הנוכחית) אנו משתמשים בערך ממוצע שהגדרנו בשאלה 7, ולכן ההסטוגרמות שונות "
   ]
  },
  {
   "cell_type": "markdown",
   "metadata": {},
   "source": []
  },
  {
   "cell_type": "markdown",
   "metadata": {},
   "source": [
    "---\n",
    "# GOOD LUCK !!!!\n",
    "---"
   ]
  },
  {
   "cell_type": "code",
   "execution_count": null,
   "metadata": {},
   "outputs": [],
   "source": [
    "# do not type below this line"
   ]
  }
 ],
 "metadata": {
  "kernelspec": {
   "display_name": "Python 3 (ipykernel)",
   "language": "python",
   "name": "python3"
  },
  "language_info": {
   "codemirror_mode": {
    "name": "ipython",
    "version": 3
   },
   "file_extension": ".py",
   "mimetype": "text/x-python",
   "name": "python",
   "nbconvert_exporter": "python",
   "pygments_lexer": "ipython3",
   "version": "3.9.6"
  }
 },
 "nbformat": 4,
 "nbformat_minor": 4
}
