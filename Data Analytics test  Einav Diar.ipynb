{
 "cells": [
  {
   "cell_type": "markdown",
   "id": "3d6c5e2c",
   "metadata": {},
   "source": [
    "# Einav Diar\n",
    "## Corona Data Anlysis"
   ]
  },
  {
   "cell_type": "code",
   "execution_count": 1,
   "id": "c509f005",
   "metadata": {},
   "outputs": [],
   "source": [
    "import pandas as pd\n",
    "import numpy as np\n",
    "import matplotlib.pyplot as plt\n",
    "import seaborn as sns\n",
    "import sklearn as sk\n",
    "from sklearn import tree\n",
    "from sklearn.tree import DecisionTreeClassifier\n",
    "from sklearn.tree import DecisionTreeRegressor\n",
    "from sklearn.model_selection import train_test_split\n",
    "from sklearn.metrics import mean_squared_error as mse"
   ]
  },
  {
   "cell_type": "code",
   "execution_count": 3,
   "id": "725af39c",
   "metadata": {},
   "outputs": [],
   "source": [
    "df.to_clipboard(index=False,header=False)"
   ]
  },
  {
   "cell_type": "code",
   "execution_count": 11,
   "id": "2de54ffa",
   "metadata": {},
   "outputs": [
    {
     "data": {
      "text/html": [
       "<div>\n",
       "<style scoped>\n",
       "    .dataframe tbody tr th:only-of-type {\n",
       "        vertical-align: middle;\n",
       "    }\n",
       "\n",
       "    .dataframe tbody tr th {\n",
       "        vertical-align: top;\n",
       "    }\n",
       "\n",
       "    .dataframe thead th {\n",
       "        text-align: right;\n",
       "    }\n",
       "</style>\n",
       "<table border=\"1\" class=\"dataframe\">\n",
       "  <thead>\n",
       "    <tr style=\"text-align: right;\">\n",
       "      <th></th>\n",
       "      <th>City_Name</th>\n",
       "      <th>City_Code</th>\n",
       "      <th>Date</th>\n",
       "      <th>verified_cases</th>\n",
       "      <th>recovered</th>\n",
       "      <th>deaths</th>\n",
       "      <th>number_of_tests</th>\n",
       "      <th>number_of_diagnostic_tests</th>\n",
       "      <th>colour</th>\n",
       "      <th>final_score</th>\n",
       "      <th>month</th>\n",
       "      <th>year</th>\n",
       "    </tr>\n",
       "  </thead>\n",
       "  <tbody>\n",
       "    <tr>\n",
       "      <th>157358</th>\n",
       "      <td>ירושלים</td>\n",
       "      <td>3000</td>\n",
       "      <td>11/01/2021</td>\n",
       "      <td>1974.0</td>\n",
       "      <td>1050.0</td>\n",
       "      <td>3.0</td>\n",
       "      <td>12987.0</td>\n",
       "      <td>12771.0</td>\n",
       "      <td>red</td>\n",
       "      <td>9.0</td>\n",
       "      <td>1</td>\n",
       "      <td>2021</td>\n",
       "    </tr>\n",
       "    <tr>\n",
       "      <th>157359</th>\n",
       "      <td>ירושלים</td>\n",
       "      <td>3000</td>\n",
       "      <td>18/01/2021</td>\n",
       "      <td>2105.0</td>\n",
       "      <td>1221.0</td>\n",
       "      <td>4.0</td>\n",
       "      <td>12353.0</td>\n",
       "      <td>12160.0</td>\n",
       "      <td>red</td>\n",
       "      <td>9.2</td>\n",
       "      <td>1</td>\n",
       "      <td>2021</td>\n",
       "    </tr>\n",
       "  </tbody>\n",
       "</table>\n",
       "</div>"
      ],
      "text/plain": [
       "       City_Name  City_Code        Date  verified_cases  recovered  deaths  \\\n",
       "157358   ירושלים       3000  11/01/2021          1974.0     1050.0     3.0   \n",
       "157359   ירושלים       3000  18/01/2021          2105.0     1221.0     4.0   \n",
       "\n",
       "        number_of_tests  number_of_diagnostic_tests colour  final_score  \\\n",
       "157358          12987.0                     12771.0    red          9.0   \n",
       "157359          12353.0                     12160.0    red          9.2   \n",
       "\n",
       "        month  year  \n",
       "157358      1  2021  \n",
       "157359      1  2021  "
      ]
     },
     "execution_count": 11,
     "metadata": {},
     "output_type": "execute_result"
    }
   ],
   "source": [
    "url = 'corona_data.csv'\n",
    "data = pd.read_csv(url)\n",
    "data.tail(2)"
   ]
  },
  {
   "cell_type": "code",
   "execution_count": 12,
   "id": "3204bb12",
   "metadata": {},
   "outputs": [
    {
     "name": "stdout",
     "output_type": "stream",
     "text": [
      "<class 'pandas.core.frame.DataFrame'>\n",
      "RangeIndex: 157360 entries, 0 to 157359\n",
      "Data columns (total 12 columns):\n",
      "City_Name                     157360 non-null object\n",
      "City_Code                     157360 non-null int64\n",
      "Date                          157360 non-null object\n",
      "verified_cases                157079 non-null float64\n",
      "recovered                     157079 non-null float64\n",
      "deaths                        157079 non-null float64\n",
      "number_of_tests               157079 non-null float64\n",
      "number_of_diagnostic_tests    157079 non-null float64\n",
      "colour                        157360 non-null object\n",
      "final_score                   157360 non-null float64\n",
      "month                         157360 non-null int64\n",
      "year                          157360 non-null int64\n",
      "dtypes: float64(6), int64(3), object(3)\n",
      "memory usage: 14.4+ MB\n"
     ]
    }
   ],
   "source": [
    "data.info()"
   ]
  },
  {
   "cell_type": "markdown",
   "id": "6753f7f6",
   "metadata": {},
   "source": [
    "# Q1 (10%)"
   ]
  },
  {
   "cell_type": "code",
   "execution_count": 49,
   "id": "1d0254ed",
   "metadata": {},
   "outputs": [
    {
     "data": {
      "text/plain": [
       "City_Name                       0\n",
       "City_Code                       0\n",
       "Date                            0\n",
       "verified_cases                281\n",
       "recovered                     281\n",
       "deaths                        281\n",
       "number_of_tests               281\n",
       "number_of_diagnostic_tests    281\n",
       "colour                          0\n",
       "final_score                     0\n",
       "month                           0\n",
       "year                            0\n",
       "dtype: int64"
      ]
     },
     "execution_count": 49,
     "metadata": {},
     "output_type": "execute_result"
    }
   ],
   "source": [
    "data.isnull().sum()"
   ]
  },
  {
   "cell_type": "markdown",
   "id": "770d4371",
   "metadata": {},
   "source": [
    "#### מכוון שישנם ערכים חסרים בטבלה בעמודות של מספר מאומתים, מחלימים, מתים ומספר בדיקות, תיקון הערכים ע\"י חציון, ממוצע, או מחיקת עמודות לא ישקף את המידע נכון."
   ]
  },
  {
   "cell_type": "markdown",
   "id": "964df0d7",
   "metadata": {},
   "source": [
    "#### לכן, בחרתי למלא את הערכים החסרים לפי הערך שהיה יום קודם/לאחר מכן."
   ]
  },
  {
   "cell_type": "markdown",
   "id": "5377cda3",
   "metadata": {},
   "source": [
    "#### דעתי נובעת מההנחה כי לדוגמה במהלך \"גל קורונה\" יש מספר מאומתים דומה בכל יום, כמות בדיקות גבוהה ודומה וכו."
   ]
  },
  {
   "cell_type": "code",
   "execution_count": 50,
   "id": "fdef5fb4",
   "metadata": {},
   "outputs": [],
   "source": [
    "data[['verified_cases']]=data[['verified_cases']].fillna(method='bfill')"
   ]
  },
  {
   "cell_type": "code",
   "execution_count": 51,
   "id": "18793ae2",
   "metadata": {},
   "outputs": [],
   "source": [
    "data[['recovered']]=data[['recovered']].fillna(method='bfill')"
   ]
  },
  {
   "cell_type": "code",
   "execution_count": 52,
   "id": "3b053005",
   "metadata": {},
   "outputs": [],
   "source": [
    "data[['deaths']]=data[['deaths']].fillna(method='bfill')"
   ]
  },
  {
   "cell_type": "code",
   "execution_count": 53,
   "id": "5d898d87",
   "metadata": {},
   "outputs": [],
   "source": [
    "data[['number_of_tests']]=data[['number_of_tests']].fillna(method='bfill')"
   ]
  },
  {
   "cell_type": "code",
   "execution_count": 54,
   "id": "b8f48c5c",
   "metadata": {},
   "outputs": [],
   "source": [
    "data[['number_of_diagnostic_tests']]=data[['number_of_diagnostic_tests']].fillna(method='bfill')"
   ]
  },
  {
   "cell_type": "code",
   "execution_count": 55,
   "id": "6d76bc73",
   "metadata": {},
   "outputs": [
    {
     "data": {
      "text/plain": [
       "City_Name                     0\n",
       "City_Code                     0\n",
       "Date                          0\n",
       "verified_cases                0\n",
       "recovered                     0\n",
       "deaths                        0\n",
       "number_of_tests               0\n",
       "number_of_diagnostic_tests    0\n",
       "colour                        0\n",
       "final_score                   0\n",
       "month                         0\n",
       "year                          0\n",
       "dtype: int64"
      ]
     },
     "execution_count": 55,
     "metadata": {},
     "output_type": "execute_result"
    }
   ],
   "source": [
    "data.isnull().sum()"
   ]
  },
  {
   "cell_type": "markdown",
   "id": "1ef4dc45",
   "metadata": {},
   "source": [
    "# Q2 (15%)"
   ]
  },
  {
   "cell_type": "markdown",
   "id": "21879ea5",
   "metadata": {},
   "source": [
    "#### הצגתי את הנתונים עבור שנת 2021 בעיר שמספר הקוד שלה הוא 7000"
   ]
  },
  {
   "cell_type": "code",
   "execution_count": 143,
   "id": "20c7040e",
   "metadata": {},
   "outputs": [
    {
     "data": {
      "text/html": [
       "<div>\n",
       "<style scoped>\n",
       "    .dataframe tbody tr th:only-of-type {\n",
       "        vertical-align: middle;\n",
       "    }\n",
       "\n",
       "    .dataframe tbody tr th {\n",
       "        vertical-align: top;\n",
       "    }\n",
       "\n",
       "    .dataframe thead th {\n",
       "        text-align: right;\n",
       "    }\n",
       "</style>\n",
       "<table border=\"1\" class=\"dataframe\">\n",
       "  <thead>\n",
       "    <tr style=\"text-align: right;\">\n",
       "      <th></th>\n",
       "      <th>City_Name</th>\n",
       "      <th>City_Code</th>\n",
       "      <th>Date</th>\n",
       "      <th>verified_cases</th>\n",
       "      <th>recovered</th>\n",
       "      <th>deaths</th>\n",
       "      <th>number_of_tests</th>\n",
       "      <th>number_of_diagnostic_tests</th>\n",
       "      <th>colour</th>\n",
       "      <th>final_score</th>\n",
       "      <th>month</th>\n",
       "      <th>year</th>\n",
       "    </tr>\n",
       "  </thead>\n",
       "  <tbody>\n",
       "    <tr>\n",
       "      <th>44483</th>\n",
       "      <td>לוד</td>\n",
       "      <td>7000</td>\n",
       "      <td>2021-03-20</td>\n",
       "      <td>0.0</td>\n",
       "      <td>13.0</td>\n",
       "      <td>0.0</td>\n",
       "      <td>93.0</td>\n",
       "      <td>92.0</td>\n",
       "      <td>green</td>\n",
       "      <td>4.4</td>\n",
       "      <td>3</td>\n",
       "      <td>2021</td>\n",
       "    </tr>\n",
       "    <tr>\n",
       "      <th>44484</th>\n",
       "      <td>לוד</td>\n",
       "      <td>7000</td>\n",
       "      <td>2021-03-31</td>\n",
       "      <td>0.0</td>\n",
       "      <td>17.0</td>\n",
       "      <td>0.0</td>\n",
       "      <td>223.0</td>\n",
       "      <td>215.0</td>\n",
       "      <td>green</td>\n",
       "      <td>2.4</td>\n",
       "      <td>3</td>\n",
       "      <td>2021</td>\n",
       "    </tr>\n",
       "    <tr>\n",
       "      <th>44485</th>\n",
       "      <td>לוד</td>\n",
       "      <td>7000</td>\n",
       "      <td>2021-07-04</td>\n",
       "      <td>0.0</td>\n",
       "      <td>7.0</td>\n",
       "      <td>0.0</td>\n",
       "      <td>900.0</td>\n",
       "      <td>869.0</td>\n",
       "      <td>green</td>\n",
       "      <td>2.7</td>\n",
       "      <td>4</td>\n",
       "      <td>2021</td>\n",
       "    </tr>\n",
       "    <tr>\n",
       "      <th>44486</th>\n",
       "      <td>לוד</td>\n",
       "      <td>7000</td>\n",
       "      <td>2021-08-04</td>\n",
       "      <td>0.0</td>\n",
       "      <td>6.0</td>\n",
       "      <td>0.0</td>\n",
       "      <td>380.0</td>\n",
       "      <td>371.0</td>\n",
       "      <td>green</td>\n",
       "      <td>2.7</td>\n",
       "      <td>4</td>\n",
       "      <td>2021</td>\n",
       "    </tr>\n",
       "    <tr>\n",
       "      <th>44487</th>\n",
       "      <td>לוד</td>\n",
       "      <td>7000</td>\n",
       "      <td>2021-11-04</td>\n",
       "      <td>0.0</td>\n",
       "      <td>16.0</td>\n",
       "      <td>0.0</td>\n",
       "      <td>264.0</td>\n",
       "      <td>261.0</td>\n",
       "      <td>green</td>\n",
       "      <td>2.2</td>\n",
       "      <td>4</td>\n",
       "      <td>2021</td>\n",
       "    </tr>\n",
       "  </tbody>\n",
       "</table>\n",
       "</div>"
      ],
      "text/plain": [
       "      City_Name  City_Code       Date  verified_cases  recovered  deaths  \\\n",
       "44483       לוד       7000 2021-03-20             0.0       13.0     0.0   \n",
       "44484       לוד       7000 2021-03-31             0.0       17.0     0.0   \n",
       "44485       לוד       7000 2021-07-04             0.0        7.0     0.0   \n",
       "44486       לוד       7000 2021-08-04             0.0        6.0     0.0   \n",
       "44487       לוד       7000 2021-11-04             0.0       16.0     0.0   \n",
       "\n",
       "       number_of_tests  number_of_diagnostic_tests colour  final_score  month  \\\n",
       "44483             93.0                        92.0  green          4.4      3   \n",
       "44484            223.0                       215.0  green          2.4      3   \n",
       "44485            900.0                       869.0  green          2.7      4   \n",
       "44486            380.0                       371.0  green          2.7      4   \n",
       "44487            264.0                       261.0  green          2.2      4   \n",
       "\n",
       "       year  \n",
       "44483  2021  \n",
       "44484  2021  \n",
       "44485  2021  \n",
       "44486  2021  \n",
       "44487  2021  "
      ]
     },
     "execution_count": 143,
     "metadata": {},
     "output_type": "execute_result"
    }
   ],
   "source": [
    "new= data.loc[(data.City_Code==7000) & (data.year ==2021)]\n",
    "new.head()"
   ]
  },
  {
   "cell_type": "markdown",
   "id": "0132779f",
   "metadata": {},
   "source": [
    "#### הצגתי את התאריך בו מספר מאומתי הקורונה היה מקסימלי"
   ]
  },
  {
   "cell_type": "code",
   "execution_count": 144,
   "id": "a4ba996c",
   "metadata": {},
   "outputs": [
    {
     "data": {
      "text/html": [
       "<div>\n",
       "<style scoped>\n",
       "    .dataframe tbody tr th:only-of-type {\n",
       "        vertical-align: middle;\n",
       "    }\n",
       "\n",
       "    .dataframe tbody tr th {\n",
       "        vertical-align: top;\n",
       "    }\n",
       "\n",
       "    .dataframe thead th {\n",
       "        text-align: right;\n",
       "    }\n",
       "</style>\n",
       "<table border=\"1\" class=\"dataframe\">\n",
       "  <thead>\n",
       "    <tr style=\"text-align: right;\">\n",
       "      <th></th>\n",
       "      <th>Date</th>\n",
       "    </tr>\n",
       "  </thead>\n",
       "  <tbody>\n",
       "    <tr>\n",
       "      <th>156329</th>\n",
       "      <td>2021-09-20</td>\n",
       "    </tr>\n",
       "  </tbody>\n",
       "</table>\n",
       "</div>"
      ],
      "text/plain": [
       "             Date\n",
       "156329 2021-09-20"
      ]
     },
     "execution_count": 144,
     "metadata": {},
     "output_type": "execute_result"
    }
   ],
   "source": [
    "q2=new\n",
    "q2=new.verified_cases.max()\n",
    "max=new.loc[new['verified_cases']==q2]\n",
    "max[['Date']]"
   ]
  },
  {
   "cell_type": "markdown",
   "id": "7b653c60",
   "metadata": {},
   "source": [
    "# Q3 (15%)"
   ]
  },
  {
   "cell_type": "markdown",
   "id": "2766cdcc",
   "metadata": {},
   "source": [
    "#### הדפסתי את ממוצע החולים המאומתים בכל חודש"
   ]
  },
  {
   "cell_type": "code",
   "execution_count": 165,
   "id": "e93e68ac",
   "metadata": {},
   "outputs": [
    {
     "data": {
      "text/html": [
       "<div>\n",
       "<style scoped>\n",
       "    .dataframe tbody tr th:only-of-type {\n",
       "        vertical-align: middle;\n",
       "    }\n",
       "\n",
       "    .dataframe tbody tr th {\n",
       "        vertical-align: top;\n",
       "    }\n",
       "\n",
       "    .dataframe thead th {\n",
       "        text-align: right;\n",
       "    }\n",
       "</style>\n",
       "<table border=\"1\" class=\"dataframe\">\n",
       "  <thead>\n",
       "    <tr style=\"text-align: right;\">\n",
       "      <th></th>\n",
       "      <th>verified_cases</th>\n",
       "    </tr>\n",
       "    <tr>\n",
       "      <th>month</th>\n",
       "      <th></th>\n",
       "    </tr>\n",
       "  </thead>\n",
       "  <tbody>\n",
       "    <tr>\n",
       "      <th>1</th>\n",
       "      <td>73.290323</td>\n",
       "    </tr>\n",
       "    <tr>\n",
       "      <th>2</th>\n",
       "      <td>63.392857</td>\n",
       "    </tr>\n",
       "    <tr>\n",
       "      <th>3</th>\n",
       "      <td>19.741935</td>\n",
       "    </tr>\n",
       "    <tr>\n",
       "      <th>4</th>\n",
       "      <td>1.933333</td>\n",
       "    </tr>\n",
       "    <tr>\n",
       "      <th>5</th>\n",
       "      <td>1.258065</td>\n",
       "    </tr>\n",
       "    <tr>\n",
       "      <th>6</th>\n",
       "      <td>0.266667</td>\n",
       "    </tr>\n",
       "    <tr>\n",
       "      <th>7</th>\n",
       "      <td>8.612903</td>\n",
       "    </tr>\n",
       "    <tr>\n",
       "      <th>8</th>\n",
       "      <td>70.193548</td>\n",
       "    </tr>\n",
       "    <tr>\n",
       "      <th>9</th>\n",
       "      <td>82.428571</td>\n",
       "    </tr>\n",
       "  </tbody>\n",
       "</table>\n",
       "</div>"
      ],
      "text/plain": [
       "       verified_cases\n",
       "month                \n",
       "1           73.290323\n",
       "2           63.392857\n",
       "3           19.741935\n",
       "4            1.933333\n",
       "5            1.258065\n",
       "6            0.266667\n",
       "7            8.612903\n",
       "8           70.193548\n",
       "9           82.428571"
      ]
     },
     "execution_count": 165,
     "metadata": {},
     "output_type": "execute_result"
    },
    {
     "data": {
      "image/png": "[encoded data removed]",
      "text/plain": [
       "<Figure size 432x288 with 1 Axes>"
      ]
     },
     "metadata": {
      "needs_background": "light"
     },
     "output_type": "display_data"
    }
   ],
   "source": [
    "sns.barplot(x='month',y='verified_cases',ci = None, data=new)\n",
    "new.groupby('month')[['verified_cases']].mean()"
   ]
  },
  {
   "cell_type": "markdown",
   "id": "7a0b635c",
   "metadata": {},
   "source": [
    "# Q4 (15%)"
   ]
  },
  {
   "cell_type": "markdown",
   "id": "8c98b5bd",
   "metadata": {},
   "source": [
    "#### הצגתי היסטוגרמה של מספר חולי הקורונה המאומתים בחודש אוגוסט"
   ]
  },
  {
   "cell_type": "code",
   "execution_count": 174,
   "id": "1f8813f1",
   "metadata": {},
   "outputs": [
    {
     "name": "stderr",
     "output_type": "stream",
     "text": [
      "C:\\ProgramData\\Anaconda3\\lib\\site-packages\\ipykernel_launcher.py:1: SettingWithCopyWarning: \n",
      "A value is trying to be set on a copy of a slice from a DataFrame.\n",
      "Try using .loc[row_indexer,col_indexer] = value instead\n",
      "\n",
      "See the caveats in the documentation: http://pandas.pydata.org/pandas-docs/stable/indexing.html#indexing-view-versus-copy\n",
      "  \"\"\"Entry point for launching an IPython kernel.\n"
     ]
    },
    {
     "data": {
      "image/png": "[encoded data removed]",
      "text/plain": [
       "<Figure size 432x288 with 1 Axes>"
      ]
     },
     "metadata": {
      "needs_background": "light"
     },
     "output_type": "display_data"
    }
   ],
   "source": [
    "new['Date'] = pd.to_datetime(new['Date'])\n",
    "q4=new[(new['Date'].dt.month==8)]\n",
    "q4['verified_cases'].hist(bins=15)\n",
    "plt.xlabel(\"verified cases\")\n",
    "plt.yscale('log')\n",
    "plt.show()"
   ]
  },
  {
   "cell_type": "markdown",
   "id": "c1608e2a",
   "metadata": {},
   "source": [
    "# Q5 (15%)"
   ]
  },
  {
   "cell_type": "markdown",
   "id": "1acaf7b1",
   "metadata": {},
   "source": [
    "#### יצרתי טבלה בה הצגתי את מספר המאומתים, מחלימים ומספר הבדיקות לפי חודש"
   ]
  },
  {
   "cell_type": "code",
   "execution_count": 166,
   "id": "165816ff",
   "metadata": {},
   "outputs": [
    {
     "data": {
      "text/html": [
       "<div>\n",
       "<style scoped>\n",
       "    .dataframe tbody tr th:only-of-type {\n",
       "        vertical-align: middle;\n",
       "    }\n",
       "\n",
       "    .dataframe tbody tr th {\n",
       "        vertical-align: top;\n",
       "    }\n",
       "\n",
       "    .dataframe thead th {\n",
       "        text-align: right;\n",
       "    }\n",
       "</style>\n",
       "<table border=\"1\" class=\"dataframe\">\n",
       "  <thead>\n",
       "    <tr style=\"text-align: right;\">\n",
       "      <th></th>\n",
       "      <th>month</th>\n",
       "      <th>verified_cases</th>\n",
       "      <th>recovered</th>\n",
       "      <th>number_of_tests</th>\n",
       "    </tr>\n",
       "  </thead>\n",
       "  <tbody>\n",
       "    <tr>\n",
       "      <th>0</th>\n",
       "      <td>1</td>\n",
       "      <td>31</td>\n",
       "      <td>31</td>\n",
       "      <td>31</td>\n",
       "    </tr>\n",
       "    <tr>\n",
       "      <th>1</th>\n",
       "      <td>2</td>\n",
       "      <td>28</td>\n",
       "      <td>28</td>\n",
       "      <td>28</td>\n",
       "    </tr>\n",
       "    <tr>\n",
       "      <th>2</th>\n",
       "      <td>3</td>\n",
       "      <td>31</td>\n",
       "      <td>31</td>\n",
       "      <td>31</td>\n",
       "    </tr>\n",
       "    <tr>\n",
       "      <th>3</th>\n",
       "      <td>4</td>\n",
       "      <td>30</td>\n",
       "      <td>30</td>\n",
       "      <td>30</td>\n",
       "    </tr>\n",
       "    <tr>\n",
       "      <th>4</th>\n",
       "      <td>5</td>\n",
       "      <td>31</td>\n",
       "      <td>31</td>\n",
       "      <td>31</td>\n",
       "    </tr>\n",
       "    <tr>\n",
       "      <th>5</th>\n",
       "      <td>6</td>\n",
       "      <td>30</td>\n",
       "      <td>30</td>\n",
       "      <td>30</td>\n",
       "    </tr>\n",
       "    <tr>\n",
       "      <th>6</th>\n",
       "      <td>7</td>\n",
       "      <td>31</td>\n",
       "      <td>31</td>\n",
       "      <td>31</td>\n",
       "    </tr>\n",
       "    <tr>\n",
       "      <th>7</th>\n",
       "      <td>8</td>\n",
       "      <td>31</td>\n",
       "      <td>31</td>\n",
       "      <td>31</td>\n",
       "    </tr>\n",
       "    <tr>\n",
       "      <th>8</th>\n",
       "      <td>9</td>\n",
       "      <td>21</td>\n",
       "      <td>21</td>\n",
       "      <td>21</td>\n",
       "    </tr>\n",
       "  </tbody>\n",
       "</table>\n",
       "</div>"
      ],
      "text/plain": [
       "   month  verified_cases  recovered  number_of_tests\n",
       "0      1              31         31               31\n",
       "1      2              28         28               28\n",
       "2      3              31         31               31\n",
       "3      4              30         30               30\n",
       "4      5              31         31               31\n",
       "5      6              30         30               30\n",
       "6      7              31         31               31\n",
       "7      8              31         31               31\n",
       "8      9              21         21               21"
      ]
     },
     "execution_count": 166,
     "metadata": {},
     "output_type": "execute_result"
    }
   ],
   "source": [
    "new.groupby(['month'])[['verified_cases','recovered','number_of_tests']].count().reset_index()"
   ]
  },
  {
   "cell_type": "markdown",
   "id": "b480d6e9",
   "metadata": {
    "tags": []
   },
   "source": [
    "# Q6 (30%)"
   ]
  },
  {
   "cell_type": "markdown",
   "id": "42b58a0e",
   "metadata": {},
   "source": [
    "#### חישבתי את הקורלציה לפי מדד פרסון וחיפשתי את הקורלציה הכי גבוהה"
   ]
  },
  {
   "cell_type": "code",
   "execution_count": 108,
   "id": "331d4909",
   "metadata": {},
   "outputs": [
    {
     "data": {
      "text/html": [
       "<div>\n",
       "<style scoped>\n",
       "    .dataframe tbody tr th:only-of-type {\n",
       "        vertical-align: middle;\n",
       "    }\n",
       "\n",
       "    .dataframe tbody tr th {\n",
       "        vertical-align: top;\n",
       "    }\n",
       "\n",
       "    .dataframe thead th {\n",
       "        text-align: right;\n",
       "    }\n",
       "</style>\n",
       "<table border=\"1\" class=\"dataframe\">\n",
       "  <thead>\n",
       "    <tr style=\"text-align: right;\">\n",
       "      <th></th>\n",
       "      <th>City_Code</th>\n",
       "      <th>verified_cases</th>\n",
       "      <th>recovered</th>\n",
       "      <th>deaths</th>\n",
       "      <th>number_of_tests</th>\n",
       "      <th>number_of_diagnostic_tests</th>\n",
       "      <th>final_score</th>\n",
       "      <th>month</th>\n",
       "      <th>year</th>\n",
       "    </tr>\n",
       "  </thead>\n",
       "  <tbody>\n",
       "    <tr>\n",
       "      <th>City_Code</th>\n",
       "      <td>NaN</td>\n",
       "      <td>NaN</td>\n",
       "      <td>NaN</td>\n",
       "      <td>NaN</td>\n",
       "      <td>NaN</td>\n",
       "      <td>NaN</td>\n",
       "      <td>NaN</td>\n",
       "      <td>NaN</td>\n",
       "      <td>NaN</td>\n",
       "    </tr>\n",
       "    <tr>\n",
       "      <th>verified_cases</th>\n",
       "      <td>NaN</td>\n",
       "      <td>1.000000</td>\n",
       "      <td>0.666186</td>\n",
       "      <td>0.455154</td>\n",
       "      <td>0.743453</td>\n",
       "      <td>0.741108</td>\n",
       "      <td>0.794880</td>\n",
       "      <td>-0.024402</td>\n",
       "      <td>NaN</td>\n",
       "    </tr>\n",
       "    <tr>\n",
       "      <th>recovered</th>\n",
       "      <td>NaN</td>\n",
       "      <td>0.666186</td>\n",
       "      <td>1.000000</td>\n",
       "      <td>0.400732</td>\n",
       "      <td>0.487623</td>\n",
       "      <td>0.481344</td>\n",
       "      <td>0.692480</td>\n",
       "      <td>-0.116369</td>\n",
       "      <td>NaN</td>\n",
       "    </tr>\n",
       "    <tr>\n",
       "      <th>deaths</th>\n",
       "      <td>NaN</td>\n",
       "      <td>0.455154</td>\n",
       "      <td>0.400732</td>\n",
       "      <td>1.000000</td>\n",
       "      <td>0.261771</td>\n",
       "      <td>0.259598</td>\n",
       "      <td>0.398230</td>\n",
       "      <td>-0.161442</td>\n",
       "      <td>NaN</td>\n",
       "    </tr>\n",
       "    <tr>\n",
       "      <th>number_of_tests</th>\n",
       "      <td>NaN</td>\n",
       "      <td>0.743453</td>\n",
       "      <td>0.487623</td>\n",
       "      <td>0.261771</td>\n",
       "      <td>1.000000</td>\n",
       "      <td>0.999902</td>\n",
       "      <td>0.620877</td>\n",
       "      <td>0.153901</td>\n",
       "      <td>NaN</td>\n",
       "    </tr>\n",
       "    <tr>\n",
       "      <th>number_of_diagnostic_tests</th>\n",
       "      <td>NaN</td>\n",
       "      <td>0.741108</td>\n",
       "      <td>0.481344</td>\n",
       "      <td>0.259598</td>\n",
       "      <td>0.999902</td>\n",
       "      <td>1.000000</td>\n",
       "      <td>0.619015</td>\n",
       "      <td>0.158013</td>\n",
       "      <td>NaN</td>\n",
       "    </tr>\n",
       "    <tr>\n",
       "      <th>final_score</th>\n",
       "      <td>NaN</td>\n",
       "      <td>0.794880</td>\n",
       "      <td>0.692480</td>\n",
       "      <td>0.398230</td>\n",
       "      <td>0.620877</td>\n",
       "      <td>0.619015</td>\n",
       "      <td>1.000000</td>\n",
       "      <td>-0.098151</td>\n",
       "      <td>NaN</td>\n",
       "    </tr>\n",
       "    <tr>\n",
       "      <th>month</th>\n",
       "      <td>NaN</td>\n",
       "      <td>-0.024402</td>\n",
       "      <td>-0.116369</td>\n",
       "      <td>-0.161442</td>\n",
       "      <td>0.153901</td>\n",
       "      <td>0.158013</td>\n",
       "      <td>-0.098151</td>\n",
       "      <td>1.000000</td>\n",
       "      <td>NaN</td>\n",
       "    </tr>\n",
       "    <tr>\n",
       "      <th>year</th>\n",
       "      <td>NaN</td>\n",
       "      <td>NaN</td>\n",
       "      <td>NaN</td>\n",
       "      <td>NaN</td>\n",
       "      <td>NaN</td>\n",
       "      <td>NaN</td>\n",
       "      <td>NaN</td>\n",
       "      <td>NaN</td>\n",
       "      <td>NaN</td>\n",
       "    </tr>\n",
       "  </tbody>\n",
       "</table>\n",
       "</div>"
      ],
      "text/plain": [
       "                            City_Code  verified_cases  recovered    deaths  \\\n",
       "City_Code                         NaN             NaN        NaN       NaN   \n",
       "verified_cases                    NaN        1.000000   0.666186  0.455154   \n",
       "recovered                         NaN        0.666186   1.000000  0.400732   \n",
       "deaths                            NaN        0.455154   0.400732  1.000000   \n",
       "number_of_tests                   NaN        0.743453   0.487623  0.261771   \n",
       "number_of_diagnostic_tests        NaN        0.741108   0.481344  0.259598   \n",
       "final_score                       NaN        0.794880   0.692480  0.398230   \n",
       "month                             NaN       -0.024402  -0.116369 -0.161442   \n",
       "year                              NaN             NaN        NaN       NaN   \n",
       "\n",
       "                            number_of_tests  number_of_diagnostic_tests  \\\n",
       "City_Code                               NaN                         NaN   \n",
       "verified_cases                     0.743453                    0.741108   \n",
       "recovered                          0.487623                    0.481344   \n",
       "deaths                             0.261771                    0.259598   \n",
       "number_of_tests                    1.000000                    0.999902   \n",
       "number_of_diagnostic_tests         0.999902                    1.000000   \n",
       "final_score                        0.620877                    0.619015   \n",
       "month                              0.153901                    0.158013   \n",
       "year                                    NaN                         NaN   \n",
       "\n",
       "                            final_score     month  year  \n",
       "City_Code                           NaN       NaN   NaN  \n",
       "verified_cases                 0.794880 -0.024402   NaN  \n",
       "recovered                      0.692480 -0.116369   NaN  \n",
       "deaths                         0.398230 -0.161442   NaN  \n",
       "number_of_tests                0.620877  0.153901   NaN  \n",
       "number_of_diagnostic_tests     0.619015  0.158013   NaN  \n",
       "final_score                    1.000000 -0.098151   NaN  \n",
       "month                         -0.098151  1.000000   NaN  \n",
       "year                                NaN       NaN   NaN  "
      ]
     },
     "execution_count": 108,
     "metadata": {},
     "output_type": "execute_result"
    }
   ],
   "source": [
    "new.corr(method='pearson')"
   ]
  },
  {
   "cell_type": "markdown",
   "id": "a2ecdc2d",
   "metadata": {},
   "source": [
    "אני משערת שבשתי העמודות של קוד עיר ושנה לא מופיע ערך מכוון שכל הערכים בטבלה שלי זהים. (2021 ו7000)"
   ]
  },
  {
   "cell_type": "markdown",
   "id": "43ee5a48",
   "metadata": {},
   "source": [
    "#### ניתן לראות ששתי הקורלציות הכי גבוהות הן 0.7948 ו 0.999"
   ]
  },
  {
   "cell_type": "markdown",
   "id": "dfb08721",
   "metadata": {},
   "source": [
    "#### בחרתי להציג את הקורלציות בעזרת גרף שישווה באופן ברור בין שני הצירים\n"
   ]
  },
  {
   "cell_type": "markdown",
   "id": "e29247ad",
   "metadata": {},
   "source": [
    "#### ניתן לראות בשני האיורים ששני הצירים עולים יחדיו."
   ]
  },
  {
   "cell_type": "code",
   "execution_count": 173,
   "id": "171a929a",
   "metadata": {},
   "outputs": [
    {
     "data": {
      "image/png": "[encoded data removed]",
      "text/plain": [
       "<Figure size 720x360 with 2 Axes>"
      ]
     },
     "metadata": {
      "needs_background": "light"
     },
     "output_type": "display_data"
    }
   ],
   "source": [
    "fig, axes = plt.subplots(1,2,figsize=(10,5))\n",
    "sns.scatterplot(x = 'number_of_diagnostic_tests', y = 'number_of_tests', data=new, ax = axes[0])\n",
    "sns.scatterplot(x = 'final_score', y = 'verified_cases', data=new, ax = axes[1])\n",
    "plt.show()"
   ]
  },
  {
   "cell_type": "code",
   "execution_count": 115,
   "id": "4ff67186",
   "metadata": {},
   "outputs": [
    {
     "data": {
      "image/png": "[encoded data removed]",
      "text/plain": [
       "<Figure size 720x360 with 2 Axes>"
      ]
     },
     "metadata": {
      "needs_background": "light"
     },
     "output_type": "display_data"
    }
   ],
   "source": [
    "fig, axes = plt.subplots(1,2,figsize=(10,5))\n",
    "sns.scatterplot(x = 'number_of_diagnostic_tests', y = 'number_of_tests',hue = 'month', data=new, ax = axes[0])\n",
    "sns.scatterplot(x = 'final_score', y = 'verified_cases',hue = 'month', data=new, ax = axes[1])\n",
    "plt.show()"
   ]
  }
 ],
 "metadata": {
  "kernelspec": {
   "display_name": "Python 3 (ipykernel)",
   "language": "python",
   "name": "python3"
  },
  "language_info": {
   "codemirror_mode": {
    "name": "ipython",
    "version": 3
   },
   "file_extension": ".py",
   "mimetype": "text/x-python",
   "name": "python",
   "nbconvert_exporter": "python",
   "pygments_lexer": "ipython3",
   "version": "3.9.6"
  }
 },
 "nbformat": 4,
 "nbformat_minor": 5
}
