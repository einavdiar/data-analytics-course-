{
 "cells": [
  {
   "cell_type": "code",
   "execution_count": 10,
   "id": "28601c2a",
   "metadata": {},
   "outputs": [],
   "source": [
    "import pandas as pd\n",
    "import numpy as np\n",
    "import matplotlib.pyplot as plt\n",
    "import seaborn as sns\n",
    "import sklearn as sk\n",
    "from sklearn import tree\n",
    "from sklearn.tree import DecisionTreeClassifier\n",
    "from sklearn.tree import DecisionTreeRegressor\n",
    "from sklearn.model_selection import train_test_split\n",
    "from sklearn.metrics import mean_squared_error as mse"
   ]
  },
  {
   "cell_type": "code",
   "execution_count": 13,
   "id": "e93aed6d",
   "metadata": {},
   "outputs": [
    {
     "data": {
      "text/html": [
       "<div>\n",
       "<style scoped>\n",
       "    .dataframe tbody tr th:only-of-type {\n",
       "        vertical-align: middle;\n",
       "    }\n",
       "\n",
       "    .dataframe tbody tr th {\n",
       "        vertical-align: top;\n",
       "    }\n",
       "\n",
       "    .dataframe thead th {\n",
       "        text-align: right;\n",
       "    }\n",
       "</style>\n",
       "<table border=\"1\" class=\"dataframe\">\n",
       "  <thead>\n",
       "    <tr style=\"text-align: right;\">\n",
       "      <th></th>\n",
       "      <th>City_Name</th>\n",
       "      <th>City_Code</th>\n",
       "      <th>Date</th>\n",
       "      <th>verified_cases</th>\n",
       "      <th>recovered</th>\n",
       "      <th>deaths</th>\n",
       "      <th>number_of_tests</th>\n",
       "      <th>number_of_diagnostic_tests</th>\n",
       "      <th>colour</th>\n",
       "      <th>final_score</th>\n",
       "      <th>month</th>\n",
       "      <th>year</th>\n",
       "    </tr>\n",
       "  </thead>\n",
       "  <tbody>\n",
       "    <tr>\n",
       "      <th>157358</th>\n",
       "      <td>תקוע</td>\n",
       "      <td>3563</td>\n",
       "      <td>20/09/2021</td>\n",
       "      <td>6</td>\n",
       "      <td>9</td>\n",
       "      <td>0</td>\n",
       "      <td>67</td>\n",
       "      <td>67</td>\n",
       "      <td>orange</td>\n",
       "      <td>7.3</td>\n",
       "      <td>9</td>\n",
       "      <td>2021</td>\n",
       "    </tr>\n",
       "    <tr>\n",
       "      <th>157359</th>\n",
       "      <td>תקוע</td>\n",
       "      <td>3563</td>\n",
       "      <td>21/09/2021</td>\n",
       "      <td>0</td>\n",
       "      <td>4</td>\n",
       "      <td>0</td>\n",
       "      <td>47</td>\n",
       "      <td>47</td>\n",
       "      <td>orange</td>\n",
       "      <td>7.0</td>\n",
       "      <td>9</td>\n",
       "      <td>2021</td>\n",
       "    </tr>\n",
       "  </tbody>\n",
       "</table>\n",
       "</div>"
      ],
      "text/plain": [
       "       City_Name  City_Code        Date  verified_cases  recovered  deaths  \\\n",
       "157358      תקוע       3563  20/09/2021               6          9       0   \n",
       "157359      תקוע       3563  21/09/2021               0          4       0   \n",
       "\n",
       "        number_of_tests  number_of_diagnostic_tests  colour  final_score  \\\n",
       "157358               67                          67  orange          7.3   \n",
       "157359               47                          47  orange          7.0   \n",
       "\n",
       "        month  year  \n",
       "157358      9  2021  \n",
       "157359      9  2021  "
      ]
     },
     "execution_count": 13,
     "metadata": {},
     "output_type": "execute_result"
    }
   ],
   "source": [
    "url = 'corona_data.csv'\n",
    "data = pd.read_csv(url)\n",
    "data.tail(2)"
   ]
  },
  {
   "cell_type": "code",
   "execution_count": 14,
   "id": "4554a215",
   "metadata": {},
   "outputs": [
    {
     "name": "stdout",
     "output_type": "stream",
     "text": [
      "<class 'pandas.core.frame.DataFrame'>\n",
      "RangeIndex: 157360 entries, 0 to 157359\n",
      "Data columns (total 12 columns):\n",
      " #   Column                      Non-Null Count   Dtype  \n",
      "---  ------                      --------------   -----  \n",
      " 0   City_Name                   157360 non-null  object \n",
      " 1   City_Code                   157360 non-null  int64  \n",
      " 2   Date                        157360 non-null  object \n",
      " 3   verified_cases              157360 non-null  int64  \n",
      " 4   recovered                   157360 non-null  int64  \n",
      " 5   deaths                      157360 non-null  int64  \n",
      " 6   number_of_tests             157360 non-null  int64  \n",
      " 7   number_of_diagnostic_tests  157360 non-null  int64  \n",
      " 8   colour                      157360 non-null  object \n",
      " 9   final_score                 157360 non-null  float64\n",
      " 10  month                       157360 non-null  int64  \n",
      " 11  year                        157360 non-null  int64  \n",
      "dtypes: float64(1), int64(8), object(3)\n",
      "memory usage: 14.4+ MB\n"
     ]
    }
   ],
   "source": [
    "data.info()"
   ]
  },
  {
   "cell_type": "markdown",
   "id": "30ce8d8e",
   "metadata": {},
   "source": [
    "# Q1"
   ]
  },
  {
   "cell_type": "markdown",
   "id": "4162a764",
   "metadata": {},
   "source": [
    "#### בחרתי להציג את הנתונים עבור שנת 2021 בעיר שמספר הקוד שלה הוא 7000"
   ]
  },
  {
   "cell_type": "code",
   "execution_count": 16,
   "id": "97de50d5",
   "metadata": {},
   "outputs": [
    {
     "data": {
      "text/html": [
       "<div>\n",
       "<style scoped>\n",
       "    .dataframe tbody tr th:only-of-type {\n",
       "        vertical-align: middle;\n",
       "    }\n",
       "\n",
       "    .dataframe tbody tr th {\n",
       "        vertical-align: top;\n",
       "    }\n",
       "\n",
       "    .dataframe thead th {\n",
       "        text-align: right;\n",
       "    }\n",
       "</style>\n",
       "<table border=\"1\" class=\"dataframe\">\n",
       "  <thead>\n",
       "    <tr style=\"text-align: right;\">\n",
       "      <th></th>\n",
       "      <th>City_Name</th>\n",
       "      <th>City_Code</th>\n",
       "    </tr>\n",
       "  </thead>\n",
       "  <tbody>\n",
       "    <tr>\n",
       "      <th>80936</th>\n",
       "      <td>לוד</td>\n",
       "      <td>7000</td>\n",
       "    </tr>\n",
       "    <tr>\n",
       "      <th>80937</th>\n",
       "      <td>לוד</td>\n",
       "      <td>7000</td>\n",
       "    </tr>\n",
       "  </tbody>\n",
       "</table>\n",
       "</div>"
      ],
      "text/plain": [
       "      City_Name  City_Code\n",
       "80936       לוד       7000\n",
       "80937       לוד       7000"
      ]
     },
     "execution_count": 16,
     "metadata": {},
     "output_type": "execute_result"
    }
   ],
   "source": [
    "new= data.loc[(data.City_Code==7000) & (data.year ==2021)]\n",
    "new.iloc[:2,0:2]\n"
   ]
  },
  {
   "cell_type": "code",
   "execution_count": 17,
   "id": "3c51bfca",
   "metadata": {},
   "outputs": [
    {
     "data": {
      "text/html": [
       "<div>\n",
       "<style scoped>\n",
       "    .dataframe tbody tr th:only-of-type {\n",
       "        vertical-align: middle;\n",
       "    }\n",
       "\n",
       "    .dataframe tbody tr th {\n",
       "        vertical-align: top;\n",
       "    }\n",
       "\n",
       "    .dataframe thead th {\n",
       "        text-align: right;\n",
       "    }\n",
       "</style>\n",
       "<table border=\"1\" class=\"dataframe\">\n",
       "  <thead>\n",
       "    <tr style=\"text-align: right;\">\n",
       "      <th></th>\n",
       "      <th>City_Name</th>\n",
       "      <th>City_Code</th>\n",
       "      <th>Date</th>\n",
       "      <th>verified_cases</th>\n",
       "      <th>recovered</th>\n",
       "      <th>deaths</th>\n",
       "      <th>number_of_tests</th>\n",
       "      <th>number_of_diagnostic_tests</th>\n",
       "      <th>colour</th>\n",
       "      <th>final_score</th>\n",
       "      <th>month</th>\n",
       "      <th>year</th>\n",
       "    </tr>\n",
       "  </thead>\n",
       "  <tbody>\n",
       "    <tr>\n",
       "      <th>80936</th>\n",
       "      <td>לוד</td>\n",
       "      <td>7000</td>\n",
       "      <td>01/01/2021</td>\n",
       "      <td>42</td>\n",
       "      <td>26</td>\n",
       "      <td>1</td>\n",
       "      <td>776</td>\n",
       "      <td>770</td>\n",
       "      <td>orange</td>\n",
       "      <td>6.9</td>\n",
       "      <td>1</td>\n",
       "      <td>2021</td>\n",
       "    </tr>\n",
       "    <tr>\n",
       "      <th>80937</th>\n",
       "      <td>לוד</td>\n",
       "      <td>7000</td>\n",
       "      <td>02/01/2021</td>\n",
       "      <td>47</td>\n",
       "      <td>16</td>\n",
       "      <td>1</td>\n",
       "      <td>473</td>\n",
       "      <td>469</td>\n",
       "      <td>orange</td>\n",
       "      <td>7.0</td>\n",
       "      <td>1</td>\n",
       "      <td>2021</td>\n",
       "    </tr>\n",
       "    <tr>\n",
       "      <th>80938</th>\n",
       "      <td>לוד</td>\n",
       "      <td>7000</td>\n",
       "      <td>03/01/2021</td>\n",
       "      <td>40</td>\n",
       "      <td>50</td>\n",
       "      <td>0</td>\n",
       "      <td>692</td>\n",
       "      <td>683</td>\n",
       "      <td>orange</td>\n",
       "      <td>7.0</td>\n",
       "      <td>1</td>\n",
       "      <td>2021</td>\n",
       "    </tr>\n",
       "    <tr>\n",
       "      <th>80939</th>\n",
       "      <td>לוד</td>\n",
       "      <td>7000</td>\n",
       "      <td>04/01/2021</td>\n",
       "      <td>47</td>\n",
       "      <td>17</td>\n",
       "      <td>0</td>\n",
       "      <td>732</td>\n",
       "      <td>727</td>\n",
       "      <td>orange</td>\n",
       "      <td>7.0</td>\n",
       "      <td>1</td>\n",
       "      <td>2021</td>\n",
       "    </tr>\n",
       "    <tr>\n",
       "      <th>80940</th>\n",
       "      <td>לוד</td>\n",
       "      <td>7000</td>\n",
       "      <td>05/01/2021</td>\n",
       "      <td>63</td>\n",
       "      <td>20</td>\n",
       "      <td>0</td>\n",
       "      <td>948</td>\n",
       "      <td>940</td>\n",
       "      <td>orange</td>\n",
       "      <td>7.0</td>\n",
       "      <td>1</td>\n",
       "      <td>2021</td>\n",
       "    </tr>\n",
       "    <tr>\n",
       "      <th>...</th>\n",
       "      <td>...</td>\n",
       "      <td>...</td>\n",
       "      <td>...</td>\n",
       "      <td>...</td>\n",
       "      <td>...</td>\n",
       "      <td>...</td>\n",
       "      <td>...</td>\n",
       "      <td>...</td>\n",
       "      <td>...</td>\n",
       "      <td>...</td>\n",
       "      <td>...</td>\n",
       "      <td>...</td>\n",
       "    </tr>\n",
       "    <tr>\n",
       "      <th>81195</th>\n",
       "      <td>לוד</td>\n",
       "      <td>7000</td>\n",
       "      <td>17/09/2021</td>\n",
       "      <td>26</td>\n",
       "      <td>67</td>\n",
       "      <td>0</td>\n",
       "      <td>607</td>\n",
       "      <td>594</td>\n",
       "      <td>red</td>\n",
       "      <td>7.8</td>\n",
       "      <td>9</td>\n",
       "      <td>2021</td>\n",
       "    </tr>\n",
       "    <tr>\n",
       "      <th>81196</th>\n",
       "      <td>לוד</td>\n",
       "      <td>7000</td>\n",
       "      <td>18/09/2021</td>\n",
       "      <td>88</td>\n",
       "      <td>26</td>\n",
       "      <td>0</td>\n",
       "      <td>942</td>\n",
       "      <td>932</td>\n",
       "      <td>red</td>\n",
       "      <td>7.8</td>\n",
       "      <td>9</td>\n",
       "      <td>2021</td>\n",
       "    </tr>\n",
       "    <tr>\n",
       "      <th>81197</th>\n",
       "      <td>לוד</td>\n",
       "      <td>7000</td>\n",
       "      <td>19/09/2021</td>\n",
       "      <td>58</td>\n",
       "      <td>193</td>\n",
       "      <td>1</td>\n",
       "      <td>954</td>\n",
       "      <td>926</td>\n",
       "      <td>red</td>\n",
       "      <td>7.8</td>\n",
       "      <td>9</td>\n",
       "      <td>2021</td>\n",
       "    </tr>\n",
       "    <tr>\n",
       "      <th>81198</th>\n",
       "      <td>לוד</td>\n",
       "      <td>7000</td>\n",
       "      <td>20/09/2021</td>\n",
       "      <td>164</td>\n",
       "      <td>123</td>\n",
       "      <td>0</td>\n",
       "      <td>1781</td>\n",
       "      <td>1755</td>\n",
       "      <td>red</td>\n",
       "      <td>7.8</td>\n",
       "      <td>9</td>\n",
       "      <td>2021</td>\n",
       "    </tr>\n",
       "    <tr>\n",
       "      <th>81199</th>\n",
       "      <td>לוד</td>\n",
       "      <td>7000</td>\n",
       "      <td>21/09/2021</td>\n",
       "      <td>50</td>\n",
       "      <td>35</td>\n",
       "      <td>0</td>\n",
       "      <td>630</td>\n",
       "      <td>608</td>\n",
       "      <td>red</td>\n",
       "      <td>7.6</td>\n",
       "      <td>9</td>\n",
       "      <td>2021</td>\n",
       "    </tr>\n",
       "  </tbody>\n",
       "</table>\n",
       "<p>264 rows × 12 columns</p>\n",
       "</div>"
      ],
      "text/plain": [
       "      City_Name  City_Code        Date  verified_cases  recovered  deaths  \\\n",
       "80936       לוד       7000  01/01/2021              42         26       1   \n",
       "80937       לוד       7000  02/01/2021              47         16       1   \n",
       "80938       לוד       7000  03/01/2021              40         50       0   \n",
       "80939       לוד       7000  04/01/2021              47         17       0   \n",
       "80940       לוד       7000  05/01/2021              63         20       0   \n",
       "...         ...        ...         ...             ...        ...     ...   \n",
       "81195       לוד       7000  17/09/2021              26         67       0   \n",
       "81196       לוד       7000  18/09/2021              88         26       0   \n",
       "81197       לוד       7000  19/09/2021              58        193       1   \n",
       "81198       לוד       7000  20/09/2021             164        123       0   \n",
       "81199       לוד       7000  21/09/2021              50         35       0   \n",
       "\n",
       "       number_of_tests  number_of_diagnostic_tests  colour  final_score  \\\n",
       "80936              776                         770  orange          6.9   \n",
       "80937              473                         469  orange          7.0   \n",
       "80938              692                         683  orange          7.0   \n",
       "80939              732                         727  orange          7.0   \n",
       "80940              948                         940  orange          7.0   \n",
       "...                ...                         ...     ...          ...   \n",
       "81195              607                         594     red          7.8   \n",
       "81196              942                         932     red          7.8   \n",
       "81197              954                         926     red          7.8   \n",
       "81198             1781                        1755     red          7.8   \n",
       "81199              630                         608     red          7.6   \n",
       "\n",
       "       month  year  \n",
       "80936      1  2021  \n",
       "80937      1  2021  \n",
       "80938      1  2021  \n",
       "80939      1  2021  \n",
       "80940      1  2021  \n",
       "...      ...   ...  \n",
       "81195      9  2021  \n",
       "81196      9  2021  \n",
       "81197      9  2021  \n",
       "81198      9  2021  \n",
       "81199      9  2021  \n",
       "\n",
       "[264 rows x 12 columns]"
      ]
     },
     "execution_count": 17,
     "metadata": {},
     "output_type": "execute_result"
    }
   ],
   "source": [
    "new"
   ]
  },
  {
   "cell_type": "markdown",
   "id": "80a1ca40",
   "metadata": {},
   "source": [
    "# Q2"
   ]
  },
  {
   "cell_type": "markdown",
   "id": "79afe171",
   "metadata": {},
   "source": [
    "#### בחרתי להציג לפי מספר חודש את מספר המאומתים ומספר המחלימים מקורונה"
   ]
  },
  {
   "cell_type": "code",
   "execution_count": 18,
   "id": "c798b365",
   "metadata": {
    "scrolled": true
   },
   "outputs": [
    {
     "data": {
      "text/html": [
       "<div>\n",
       "<style scoped>\n",
       "    .dataframe tbody tr th:only-of-type {\n",
       "        vertical-align: middle;\n",
       "    }\n",
       "\n",
       "    .dataframe tbody tr th {\n",
       "        vertical-align: top;\n",
       "    }\n",
       "\n",
       "    .dataframe thead th {\n",
       "        text-align: right;\n",
       "    }\n",
       "</style>\n",
       "<table border=\"1\" class=\"dataframe\">\n",
       "  <thead>\n",
       "    <tr style=\"text-align: right;\">\n",
       "      <th></th>\n",
       "      <th>verified_cases</th>\n",
       "      <th>recovered</th>\n",
       "    </tr>\n",
       "    <tr>\n",
       "      <th>month</th>\n",
       "      <th></th>\n",
       "      <th></th>\n",
       "    </tr>\n",
       "  </thead>\n",
       "  <tbody>\n",
       "    <tr>\n",
       "      <th>1</th>\n",
       "      <td>134</td>\n",
       "      <td>146</td>\n",
       "    </tr>\n",
       "    <tr>\n",
       "      <th>2</th>\n",
       "      <td>122</td>\n",
       "      <td>174</td>\n",
       "    </tr>\n",
       "    <tr>\n",
       "      <th>3</th>\n",
       "      <td>110</td>\n",
       "      <td>79</td>\n",
       "    </tr>\n",
       "    <tr>\n",
       "      <th>4</th>\n",
       "      <td>11</td>\n",
       "      <td>22</td>\n",
       "    </tr>\n",
       "    <tr>\n",
       "      <th>5</th>\n",
       "      <td>5</td>\n",
       "      <td>5</td>\n",
       "    </tr>\n",
       "    <tr>\n",
       "      <th>6</th>\n",
       "      <td>3</td>\n",
       "      <td>5</td>\n",
       "    </tr>\n",
       "    <tr>\n",
       "      <th>7</th>\n",
       "      <td>25</td>\n",
       "      <td>15</td>\n",
       "    </tr>\n",
       "    <tr>\n",
       "      <th>8</th>\n",
       "      <td>142</td>\n",
       "      <td>147</td>\n",
       "    </tr>\n",
       "    <tr>\n",
       "      <th>9</th>\n",
       "      <td>164</td>\n",
       "      <td>193</td>\n",
       "    </tr>\n",
       "  </tbody>\n",
       "</table>\n",
       "</div>"
      ],
      "text/plain": [
       "       verified_cases  recovered\n",
       "month                           \n",
       "1                 134        146\n",
       "2                 122        174\n",
       "3                 110         79\n",
       "4                  11         22\n",
       "5                   5          5\n",
       "6                   3          5\n",
       "7                  25         15\n",
       "8                 142        147\n",
       "9                 164        193"
      ]
     },
     "execution_count": 18,
     "metadata": {},
     "output_type": "execute_result"
    }
   ],
   "source": [
    "new.groupby('month')[['verified_cases','recovered']].max()"
   ]
  },
  {
   "cell_type": "markdown",
   "id": "9bf473b4",
   "metadata": {},
   "source": [
    "# Q3"
   ]
  },
  {
   "cell_type": "markdown",
   "id": "b7caac98",
   "metadata": {},
   "source": [
    "#### נחשב את הקורלציה בין מספר הבדיקות למספר המאומתים:"
   ]
  },
  {
   "cell_type": "code",
   "execution_count": 19,
   "id": "d841fca9",
   "metadata": {},
   "outputs": [
    {
     "data": {
      "text/plain": [
       "<AxesSubplot:>"
      ]
     },
     "execution_count": 19,
     "metadata": {},
     "output_type": "execute_result"
    },
    {
     "data": {
      "image/png": "[encoded data removed]",
      "text/plain": [
       "<Figure size 432x288 with 2 Axes>"
      ]
     },
     "metadata": {
      "needs_background": "light"
     },
     "output_type": "display_data"
    }
   ],
   "source": [
    "features = ['number_of_tests','verified_cases']\n",
    "correlation_matrix = new[features].corr()\n",
    "sns.heatmap(data=correlation_matrix,cmap='Greens', annot=True)"
   ]
  },
  {
   "cell_type": "markdown",
   "id": "b1edc8a1",
   "metadata": {},
   "source": [
    "# ניתן לראות מהאיור שהקשר בין מספר הבדיקות לבין מספר המאומתים הוא 0.74, כלומר קשר גבוה וחיובי"
   ]
  },
  {
   "cell_type": "code",
   "execution_count": 47,
   "id": "050fbda8",
   "metadata": {},
   "outputs": [
    {
     "data": {
      "text/plain": [
       "Text(0.5, 1.0, 'The Corrolation between number of tests and verified cases')"
      ]
     },
     "execution_count": 47,
     "metadata": {},
     "output_type": "execute_result"
    },
    {
     "data": {
      "image/png": "[encoded data removed]",
      "text/plain": [
       "<Figure size 432x288 with 1 Axes>"
      ]
     },
     "metadata": {},
     "output_type": "display_data"
    }
   ],
   "source": [
    "sns.scatterplot(x = \"number_of_tests\", y = \"verified_cases\", data = new)\n",
    "plt.xlabel(\"number of tests\")\n",
    "plt.ylabel(\"verified cases\")\n",
    "plt.title(\"The Corrolation between number of tests and verified cases\")"
   ]
  },
  {
   "cell_type": "code",
   "execution_count": 45,
   "id": "12da0d2e",
   "metadata": {},
   "outputs": [
    {
     "data": {
      "text/plain": [
       "Text(0.5, 1.0, 'The Corrolation between number of tests and verified cases')"
      ]
     },
     "execution_count": 45,
     "metadata": {},
     "output_type": "execute_result"
    },
    {
     "data": {
      "image/png": "[encoded data removed]",
      "text/plain": [
       "<Figure size 432x288 with 1 Axes>"
      ]
     },
     "metadata": {},
     "output_type": "display_data"
    }
   ],
   "source": [
    "scat=sns.scatterplot(data=new, x=\"number_of_tests\", y=\"verified_cases\", hue = 'colour', palette = 'colorblind')\n",
    "plt.xlabel(\"number of tests\")\n",
    "plt.ylabel(\"verified cases\")\n",
    "plt.title(\"The Corrolation between number of tests and verified cases\")"
   ]
  },
  {
   "cell_type": "markdown",
   "id": "bbacc770",
   "metadata": {},
   "source": [
    "# Q4"
   ]
  },
  {
   "cell_type": "markdown",
   "id": "2c1dfcd6",
   "metadata": {},
   "source": [
    "#### יצרתי טבלה המציגה לפי מספר חודש את כמות החולים בעיר מכל \"צבע\""
   ]
  },
  {
   "cell_type": "code",
   "execution_count": 35,
   "id": "a60d7170",
   "metadata": {},
   "outputs": [
    {
     "data": {
      "text/html": [
       "<div>\n",
       "<style scoped>\n",
       "    .dataframe tbody tr th:only-of-type {\n",
       "        vertical-align: middle;\n",
       "    }\n",
       "\n",
       "    .dataframe tbody tr th {\n",
       "        vertical-align: top;\n",
       "    }\n",
       "\n",
       "    .dataframe thead th {\n",
       "        text-align: right;\n",
       "    }\n",
       "</style>\n",
       "<table border=\"1\" class=\"dataframe\">\n",
       "  <thead>\n",
       "    <tr style=\"text-align: right;\">\n",
       "      <th>month</th>\n",
       "      <th>1</th>\n",
       "      <th>2</th>\n",
       "      <th>3</th>\n",
       "      <th>4</th>\n",
       "      <th>5</th>\n",
       "      <th>6</th>\n",
       "      <th>7</th>\n",
       "      <th>8</th>\n",
       "      <th>9</th>\n",
       "    </tr>\n",
       "    <tr>\n",
       "      <th>colour</th>\n",
       "      <th></th>\n",
       "      <th></th>\n",
       "      <th></th>\n",
       "      <th></th>\n",
       "      <th></th>\n",
       "      <th></th>\n",
       "      <th></th>\n",
       "      <th></th>\n",
       "      <th></th>\n",
       "    </tr>\n",
       "  </thead>\n",
       "  <tbody>\n",
       "    <tr>\n",
       "      <th>green</th>\n",
       "      <td>NaN</td>\n",
       "      <td>NaN</td>\n",
       "      <td>13.0</td>\n",
       "      <td>30.0</td>\n",
       "      <td>31.0</td>\n",
       "      <td>30.0</td>\n",
       "      <td>16.0</td>\n",
       "      <td>NaN</td>\n",
       "      <td>NaN</td>\n",
       "    </tr>\n",
       "    <tr>\n",
       "      <th>orange</th>\n",
       "      <td>14.0</td>\n",
       "      <td>14.0</td>\n",
       "      <td>8.0</td>\n",
       "      <td>NaN</td>\n",
       "      <td>NaN</td>\n",
       "      <td>NaN</td>\n",
       "      <td>7.0</td>\n",
       "      <td>7.0</td>\n",
       "      <td>10.0</td>\n",
       "    </tr>\n",
       "    <tr>\n",
       "      <th>red</th>\n",
       "      <td>17.0</td>\n",
       "      <td>14.0</td>\n",
       "      <td>NaN</td>\n",
       "      <td>NaN</td>\n",
       "      <td>NaN</td>\n",
       "      <td>NaN</td>\n",
       "      <td>NaN</td>\n",
       "      <td>17.0</td>\n",
       "      <td>11.0</td>\n",
       "    </tr>\n",
       "    <tr>\n",
       "      <th>yellow</th>\n",
       "      <td>NaN</td>\n",
       "      <td>NaN</td>\n",
       "      <td>10.0</td>\n",
       "      <td>NaN</td>\n",
       "      <td>NaN</td>\n",
       "      <td>NaN</td>\n",
       "      <td>8.0</td>\n",
       "      <td>7.0</td>\n",
       "      <td>NaN</td>\n",
       "    </tr>\n",
       "  </tbody>\n",
       "</table>\n",
       "</div>"
      ],
      "text/plain": [
       "month      1     2     3     4     5     6     7     8     9\n",
       "colour                                                      \n",
       "green    NaN   NaN  13.0  30.0  31.0  30.0  16.0   NaN   NaN\n",
       "orange  14.0  14.0   8.0   NaN   NaN   NaN   7.0   7.0  10.0\n",
       "red     17.0  14.0   NaN   NaN   NaN   NaN   NaN  17.0  11.0\n",
       "yellow   NaN   NaN  10.0   NaN   NaN   NaN   8.0   7.0   NaN"
      ]
     },
     "execution_count": 35,
     "metadata": {},
     "output_type": "execute_result"
    }
   ],
   "source": [
    "#new.groupby(['colour','month'])[['month']].count()\n",
    "\n",
    "new.pivot_table('Date', index='colour', columns='month', aggfunc='count') \n"
   ]
  },
  {
   "cell_type": "markdown",
   "id": "27a4ee8b",
   "metadata": {},
   "source": [
    "# Q5"
   ]
  },
  {
   "cell_type": "markdown",
   "id": "82ddbff6",
   "metadata": {},
   "source": [
    "#### הצגתי בשני גרפים את סכום החולים המאומתים בכל חודש ואת סכום המחלימים בכל חודש"
   ]
  },
  {
   "cell_type": "code",
   "execution_count": 52,
   "id": "841ad6b3",
   "metadata": {},
   "outputs": [
    {
     "data": {
      "image/png": "[encoded data removed]",
      "text/plain": [
       "<Figure size 1080x360 with 2 Axes>"
      ]
     },
     "metadata": {},
     "output_type": "display_data"
    }
   ],
   "source": [
    "fig, axes = plt.subplots(figsize=(15, 5), ncols=2)\n",
    "plt.subplots_adjust(wspace = 0.3)\n",
    "sns.barplot(x=\"month\", y=\"verified_cases\", ci = None, estimator = sum, data=new,ax=axes[0] )\n",
    "sns.barplot(x=\"month\", y=\"recovered\",   ci = None, estimator = sum, data=new, ax = axes[1])\n",
    "plt.show()"
   ]
  },
  {
   "cell_type": "markdown",
   "id": "32c0c166",
   "metadata": {},
   "source": [
    "# Q6"
   ]
  },
  {
   "cell_type": "markdown",
   "id": "5b340e94",
   "metadata": {},
   "source": [
    "#### בניתי מודל חיזוי לצבע של העיר לפי מספר החולים, מספר המחלימים וקוד העיר"
   ]
  },
  {
   "cell_type": "code",
   "execution_count": 53,
   "id": "c8eee4ef",
   "metadata": {},
   "outputs": [
    {
     "data": {
      "text/plain": [
       "0.4853414675478732"
      ]
     },
     "execution_count": 53,
     "metadata": {},
     "output_type": "execute_result"
    }
   ],
   "source": [
    "features = ['verified_cases', 'recovered', 'City_Code']\n",
    "X= data[features] \n",
    "y= data['colour'] \n",
    "X_train, X_test, y_train, y_test= sk.model_selection.train_test_split(X,y, test_size=0.3, random_state=1)\n",
    "model= sk.tree.DecisionTreeClassifier(random_state = 0)\n",
    "model.fit(X_train, y_train)\n",
    "pred= model.predict(X_test)\n",
    "sk.metrics.accuracy_score(pred,y_test)"
   ]
  },
  {
   "cell_type": "code",
   "execution_count": 61,
   "id": "9591fd2b",
   "metadata": {},
   "outputs": [
    {
     "data": {
      "text/plain": [
       "0.48460006778512116"
      ]
     },
     "execution_count": 61,
     "metadata": {},
     "output_type": "execute_result"
    }
   ],
   "source": [
    "model2 = sk.tree.DecisionTreeClassifier(criterion=\"gini\")\n",
    "model2.fit(X_train,y_train)\n",
    "prediction2 = model2.predict(X_test)\n",
    "sk.metrics.accuracy_score(prediction2, y_test)\n"
   ]
  },
  {
   "cell_type": "code",
   "execution_count": 62,
   "id": "9b97d13e",
   "metadata": {},
   "outputs": [
    {
     "name": "stderr",
     "output_type": "stream",
     "text": [
      "c:\\users\\einav\\appdata\\local\\programs\\python\\python39\\lib\\site-packages\\sklearn\\utils\\deprecation.py:87: FutureWarning: Function plot_confusion_matrix is deprecated; Function `plot_confusion_matrix` is deprecated in 1.0 and will be removed in 1.2. Use one of the class methods: ConfusionMatrixDisplay.from_predictions or ConfusionMatrixDisplay.from_estimator.\n",
      "  warnings.warn(msg, category=FutureWarning)\n"
     ]
    },
    {
     "data": {
      "text/plain": [
       "<sklearn.metrics._plot.confusion_matrix.ConfusionMatrixDisplay at 0x277d73870d0>"
      ]
     },
     "execution_count": 62,
     "metadata": {},
     "output_type": "execute_result"
    },
    {
     "data": {
      "image/png": "[encoded data removed]",
      "text/plain": [
       "<Figure size 432x288 with 2 Axes>"
      ]
     },
     "metadata": {},
     "output_type": "display_data"
    }
   ],
   "source": [
    "sk.metrics.plot_confusion_matrix(model2, X_test, y_test, cmap=plt.cm.Blues)\n"
   ]
  },
  {
   "cell_type": "code",
   "execution_count": null,
   "id": "eca156eb",
   "metadata": {},
   "outputs": [],
   "source": []
  }
 ],
 "metadata": {
  "kernelspec": {
   "display_name": "Python 3 (ipykernel)",
   "language": "python",
   "name": "python3"
  },
  "language_info": {
   "codemirror_mode": {
    "name": "ipython",
    "version": 3
   },
   "file_extension": ".py",
   "mimetype": "text/x-python",
   "name": "python",
   "nbconvert_exporter": "python",
   "pygments_lexer": "ipython3",
   "version": "3.9.6"
  }
 },
 "nbformat": 4,
 "nbformat_minor": 5
}
